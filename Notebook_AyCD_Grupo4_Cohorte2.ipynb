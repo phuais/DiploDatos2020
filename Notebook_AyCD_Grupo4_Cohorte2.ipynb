{
  "nbformat": 4,
  "nbformat_minor": 0,
  "metadata": {
    "kernelspec": {
      "display_name": "Python [conda env:diplodatos-ayvd]",
      "language": "python",
      "name": "conda-env-diplodatos-ayvd-py"
    },
    "language_info": {
      "codemirror_mode": {
        "name": "ipython",
        "version": 3
      },
      "file_extension": ".py",
      "mimetype": "text/x-python",
      "name": "python",
      "nbconvert_exporter": "python",
      "pygments_lexer": "ipython3",
      "version": "3.6.10"
    },
    "colab": {
      "name": "Notebook_AyCD_Grupo4_Cohorte2.ipynb",
      "provenance": [],
      "collapsed_sections": [],
      "toc_visible": true
    }
  },
  "cells": [
    {
      "cell_type": "markdown",
      "metadata": {
        "id": "22Pixc1sOTod",
        "colab_type": "text"
      },
      "source": [
        "<center>\n",
        "<h4>Universidad Nacional de Córdoba - Facultad de Matemática, Astronomía, Física y Computación</h4>\n",
        "<h3>Diplomatura en Ciencia de Datos, Aprendizaje Automático y sus Aplicaciones</h3>\n",
        "</center>"
      ]
    },
    {
      "cell_type": "markdown",
      "metadata": {
        "id": "O4vjjyKtOToe",
        "colab_type": "text"
      },
      "source": [
        "<h1> Práctico - Grupo 4 (cohorte 2)</h1>\n",
        "<h3> Análisis y Curación de Datos - 2020 </h3>"
      ]
    },
    {
      "cell_type": "code",
      "metadata": {
        "id": "C6sRVOvgOTof",
        "colab_type": "code",
        "colab": {}
      },
      "source": [
        "import matplotlib.pyplot as plt\n",
        "import pandas\n",
        "import seaborn\n",
        "import numpy\n",
        "import sys"
      ],
      "execution_count": 15,
      "outputs": []
    },
    {
      "cell_type": "code",
      "metadata": {
        "id": "eCQuN72AOToi",
        "colab_type": "code",
        "colab": {}
      },
      "source": [
        "in_colab = 'google.colab' in sys.modules\n",
        "\n",
        "if in_colab:\n",
        "  BASE_DIR = \"https://github.com/DiploDatos/AnalisisYCuracion/raw/master/\"\n",
        "else:\n",
        "  BASE_DIR = \"..\"\n",
        "    \n",
        "pandas.options.display.float_format = '{:.2f}'.format"
      ],
      "execution_count": 16,
      "outputs": []
    },
    {
      "cell_type": "markdown",
      "metadata": {
        "id": "i6183v5aOTom",
        "colab_type": "text"
      },
      "source": [
        "# Formatos de Datos - CSV"
      ]
    },
    {
      "cell_type": "markdown",
      "metadata": {
        "id": "qzzrxSNKXRqZ",
        "colab_type": "text"
      },
      "source": [
        "## Ejercicio\n",
        "\n",
        "1. Descargar dataset en CSV\n",
        "    Tablas de Peso\n",
        "    Basado en material de https://www.cdc.gov/growthcharts/percentile_data_files.htm\n",
        "\n",
        "    https://www.cdc.gov/growthcharts/data/zscore/wtageinf.csv\n",
        "\n",
        "2. Graficar las curvas correspondientes a cada percentil para niños y niñas\n",
        "\n",
        "    a. En la columna Sex, 1 representa a niños y 2 a niñas\n",
        "\n",
        "    b. Las curvas de los percentiles correspondientes a un mismo sexo deben ir en un mismo\n",
        "gráfico.\n",
        "\n",
        "    c. Un gráfico para cada sexo"
      ]
    },
    {
      "cell_type": "code",
      "metadata": {
        "id": "a7-gsbp-OTom",
        "colab_type": "code",
        "colab": {
          "base_uri": "https://localhost:8080/",
          "height": 34
        },
        "outputId": "f4038d77-865a-44ce-f35e-dc536eca2c81"
      },
      "source": [
        "dataset = pandas.read_csv('https://www.cdc.gov/growthcharts/data/zscore/wtageinf.csv')\n",
        "dataset.shape"
      ],
      "execution_count": 17,
      "outputs": [
        {
          "output_type": "execute_result",
          "data": {
            "text/plain": [
              "(76, 14)"
            ]
          },
          "metadata": {
            "tags": []
          },
          "execution_count": 17
        }
      ]
    },
    {
      "cell_type": "code",
      "metadata": {
        "id": "Igahjh6yOToq",
        "colab_type": "code",
        "colab": {
          "base_uri": "https://localhost:8080/",
          "height": 206
        },
        "outputId": "0e16c72a-5e65-4cbc-ce0a-9a09ee04bb70"
      },
      "source": [
        "dataset.head(5)"
      ],
      "execution_count": 18,
      "outputs": [
        {
          "output_type": "execute_result",
          "data": {
            "text/html": [
              "<div>\n",
              "<style scoped>\n",
              "    .dataframe tbody tr th:only-of-type {\n",
              "        vertical-align: middle;\n",
              "    }\n",
              "\n",
              "    .dataframe tbody tr th {\n",
              "        vertical-align: top;\n",
              "    }\n",
              "\n",
              "    .dataframe thead th {\n",
              "        text-align: right;\n",
              "    }\n",
              "</style>\n",
              "<table border=\"1\" class=\"dataframe\">\n",
              "  <thead>\n",
              "    <tr style=\"text-align: right;\">\n",
              "      <th></th>\n",
              "      <th>Sex</th>\n",
              "      <th>Agemos</th>\n",
              "      <th>L</th>\n",
              "      <th>M</th>\n",
              "      <th>S</th>\n",
              "      <th>P3</th>\n",
              "      <th>P5</th>\n",
              "      <th>P10</th>\n",
              "      <th>P25</th>\n",
              "      <th>P50</th>\n",
              "      <th>P75</th>\n",
              "      <th>P90</th>\n",
              "      <th>P95</th>\n",
              "      <th>P97</th>\n",
              "    </tr>\n",
              "  </thead>\n",
              "  <tbody>\n",
              "    <tr>\n",
              "      <th>0</th>\n",
              "      <td>1</td>\n",
              "      <td>0.00</td>\n",
              "      <td>1.82</td>\n",
              "      <td>3.53</td>\n",
              "      <td>0.15</td>\n",
              "      <td>2.36</td>\n",
              "      <td>2.53</td>\n",
              "      <td>2.77</td>\n",
              "      <td>3.15</td>\n",
              "      <td>3.53</td>\n",
              "      <td>3.88</td>\n",
              "      <td>4.17</td>\n",
              "      <td>4.34</td>\n",
              "      <td>4.45</td>\n",
              "    </tr>\n",
              "    <tr>\n",
              "      <th>1</th>\n",
              "      <td>1</td>\n",
              "      <td>0.50</td>\n",
              "      <td>1.55</td>\n",
              "      <td>4.00</td>\n",
              "      <td>0.15</td>\n",
              "      <td>2.80</td>\n",
              "      <td>2.96</td>\n",
              "      <td>3.21</td>\n",
              "      <td>3.60</td>\n",
              "      <td>4.00</td>\n",
              "      <td>4.39</td>\n",
              "      <td>4.72</td>\n",
              "      <td>4.91</td>\n",
              "      <td>5.03</td>\n",
              "    </tr>\n",
              "    <tr>\n",
              "      <th>2</th>\n",
              "      <td>1</td>\n",
              "      <td>1.50</td>\n",
              "      <td>1.07</td>\n",
              "      <td>4.88</td>\n",
              "      <td>0.14</td>\n",
              "      <td>3.61</td>\n",
              "      <td>3.77</td>\n",
              "      <td>4.02</td>\n",
              "      <td>4.43</td>\n",
              "      <td>4.88</td>\n",
              "      <td>5.33</td>\n",
              "      <td>5.73</td>\n",
              "      <td>5.97</td>\n",
              "      <td>6.12</td>\n",
              "    </tr>\n",
              "    <tr>\n",
              "      <th>3</th>\n",
              "      <td>1</td>\n",
              "      <td>2.50</td>\n",
              "      <td>0.70</td>\n",
              "      <td>5.67</td>\n",
              "      <td>0.13</td>\n",
              "      <td>4.34</td>\n",
              "      <td>4.50</td>\n",
              "      <td>4.75</td>\n",
              "      <td>5.18</td>\n",
              "      <td>5.67</td>\n",
              "      <td>6.18</td>\n",
              "      <td>6.64</td>\n",
              "      <td>6.92</td>\n",
              "      <td>7.11</td>\n",
              "    </tr>\n",
              "    <tr>\n",
              "      <th>4</th>\n",
              "      <td>1</td>\n",
              "      <td>3.50</td>\n",
              "      <td>0.42</td>\n",
              "      <td>6.39</td>\n",
              "      <td>0.12</td>\n",
              "      <td>4.99</td>\n",
              "      <td>5.16</td>\n",
              "      <td>5.42</td>\n",
              "      <td>5.87</td>\n",
              "      <td>6.39</td>\n",
              "      <td>6.94</td>\n",
              "      <td>7.46</td>\n",
              "      <td>7.78</td>\n",
              "      <td>7.99</td>\n",
              "    </tr>\n",
              "  </tbody>\n",
              "</table>\n",
              "</div>"
            ],
            "text/plain": [
              "   Sex  Agemos    L    M    S   P3   P5  P10  P25  P50  P75  P90  P95  P97\n",
              "0    1    0.00 1.82 3.53 0.15 2.36 2.53 2.77 3.15 3.53 3.88 4.17 4.34 4.45\n",
              "1    1    0.50 1.55 4.00 0.15 2.80 2.96 3.21 3.60 4.00 4.39 4.72 4.91 5.03\n",
              "2    1    1.50 1.07 4.88 0.14 3.61 3.77 4.02 4.43 4.88 5.33 5.73 5.97 6.12\n",
              "3    1    2.50 0.70 5.67 0.13 4.34 4.50 4.75 5.18 5.67 6.18 6.64 6.92 7.11\n",
              "4    1    3.50 0.42 6.39 0.12 4.99 5.16 5.42 5.87 6.39 6.94 7.46 7.78 7.99"
            ]
          },
          "metadata": {
            "tags": []
          },
          "execution_count": 18
        }
      ]
    },
    {
      "cell_type": "markdown",
      "metadata": {
        "id": "BUFeVDCcOTox",
        "colab_type": "text"
      },
      "source": [
        "Seleccionamos las columnas con las cuales vamos a trabajar:"
      ]
    },
    {
      "cell_type": "code",
      "metadata": {
        "id": "vhuXtNrKOToz",
        "colab_type": "code",
        "colab": {}
      },
      "source": [
        "cols = ['Agemos'] + [col for col in dataset.columns if 'P' in col]"
      ],
      "execution_count": 19,
      "outputs": []
    },
    {
      "cell_type": "markdown",
      "metadata": {
        "id": "Oevz2U_BOTo8",
        "colab_type": "text"
      },
      "source": [
        "Definimos 2 dataset, uno para varones y otro para mujeres, y reacomodamos los dataset para poder graficarlos, mediante la function melt:"
      ]
    },
    {
      "cell_type": "code",
      "metadata": {
        "id": "bd-AklysOTpF",
        "colab_type": "code",
        "colab": {}
      },
      "source": [
        "df_varones = pandas.melt(dataset[dataset.Sex == 1][cols], 'Agemos')\n",
        "df_mujeres = pandas.melt(dataset[dataset.Sex == 2][cols], 'Agemos')"
      ],
      "execution_count": 20,
      "outputs": []
    },
    {
      "cell_type": "code",
      "metadata": {
        "id": "hmHiBlujOTpK",
        "colab_type": "code",
        "colab": {
          "base_uri": "https://localhost:8080/",
          "height": 310
        },
        "outputId": "bf8254c2-a38b-4a1b-9839-d0c7f15972d6"
      },
      "source": [
        "seaborn.lineplot(x=\"Agemos\", y=\"value\", hue='variable', data=df_varones)\n",
        "plt.title('Curvas de percentiles\\n Varones')\n",
        "plt.ylabel('Valor')\n",
        "plt.xlabel('Edad')\n",
        "plt.legend(bbox_to_anchor=(1.05, 1), loc=2, borderaxespad=0.)\n",
        "seaborn.despine()"
      ],
      "execution_count": 21,
      "outputs": [
        {
          "output_type": "display_data",
          "data": {
            "image/png": "[encoded data removed]",
            "text/plain": [
              "<Figure size 432x288 with 1 Axes>"
            ]
          },
          "metadata": {
            "tags": [],
            "needs_background": "light"
          }
        }
      ]
    },
    {
      "cell_type": "code",
      "metadata": {
        "id": "oNJYq9mlOTpO",
        "colab_type": "code",
        "colab": {
          "base_uri": "https://localhost:8080/",
          "height": 310
        },
        "outputId": "3d3fb0c6-315e-4b31-ba13-344d49ccd77b"
      },
      "source": [
        "seaborn.lineplot(x=\"Agemos\", y=\"value\", hue='variable', data=df_mujeres)\n",
        "plt.title('Curvas de percentiles\\n Mujeres')\n",
        "plt.ylabel('Valor')\n",
        "plt.xlabel('Edad')\n",
        "plt.legend(bbox_to_anchor=(1.05, 1), loc=2, borderaxespad=0.)\n",
        "seaborn.despine()"
      ],
      "execution_count": 22,
      "outputs": [
        {
          "output_type": "display_data",
          "data": {
            "image/png": "[encoded data removed]",
            "text/plain": [
              "<Figure size 432x288 with 1 Axes>"
            ]
          },
          "metadata": {
            "tags": [],
            "needs_background": "light"
          }
        }
      ]
    },
    {
      "cell_type": "markdown",
      "metadata": {
        "id": "iX_3zeHPOTpR",
        "colab_type": "text"
      },
      "source": [
        "# Formato de Datos - JSON"
      ]
    },
    {
      "cell_type": "markdown",
      "metadata": {
        "id": "KVxNNOctXMnG",
        "colab_type": "text"
      },
      "source": [
        "## Ejercicio\n",
        "\n",
        "1. Descargar dataset en JSON:\n",
        "    Pasos Fronterizos\n",
        "    https://github.com/DiploDatos/AnalisisYCuracion/blob/master/input/pasos.json\n",
        "\n",
        "2. Graficar un gráfico de barras agrupando por valor del atributo “province”."
      ]
    },
    {
      "cell_type": "code",
      "metadata": {
        "id": "xdZzaaqnOTpR",
        "colab_type": "code",
        "colab": {
          "base_uri": "https://localhost:8080/",
          "height": 34
        },
        "outputId": "490e0a69-d6d2-4e67-cc2c-352884d2f558"
      },
      "source": [
        "json = pandas.read_json(BASE_DIR + '/input/pasos.json')\n",
        "json.shape"
      ],
      "execution_count": 23,
      "outputs": [
        {
          "output_type": "execute_result",
          "data": {
            "text/plain": [
              "(252, 3)"
            ]
          },
          "metadata": {
            "tags": []
          },
          "execution_count": 23
        }
      ]
    },
    {
      "cell_type": "markdown",
      "metadata": {
        "id": "BG90Ye5eOTpU",
        "colab_type": "text"
      },
      "source": [
        "Armamos un dataset agrupando por provincia y lo graficamos:"
      ]
    },
    {
      "cell_type": "code",
      "metadata": {
        "id": "tm9fls-COTpV",
        "colab_type": "code",
        "colab": {}
      },
      "source": [
        "data = json.province.value_counts()"
      ],
      "execution_count": 24,
      "outputs": []
    },
    {
      "cell_type": "code",
      "metadata": {
        "id": "Et6qoh62OTpa",
        "colab_type": "code",
        "colab": {
          "base_uri": "https://localhost:8080/",
          "height": 720
        },
        "outputId": "1ea0f778-e4e1-4aa1-cd8e-12e98c9c7ca0"
      },
      "source": [
        "plt.figure(figsize=(15, 6))\n",
        "plt.title('Pasos fronterisos por provincia')\n",
        "seaborn.barplot(x=data.index, y=data.values, color='steelblue')\n",
        "plt.xticks(rotation=90)\n",
        "seaborn.despine()"
      ],
      "execution_count": 25,
      "outputs": [
        {
          "output_type": "display_data",
          "data": {
            "image/png": "[encoded data removed]",
            "text/plain": [
              "<Figure size 1080x432 with 1 Axes>"
            ]
          },
          "metadata": {
            "tags": [],
            "needs_background": "light"
          }
        }
      ]
    },
    {
      "cell_type": "markdown",
      "metadata": {
        "id": "G1zfc2eRvSx9",
        "colab_type": "text"
      },
      "source": [
        "Al graficar el barplot, se evidencian varios errores presentes en el dataset. Por ejemplo, hay un aeropuerto clasificado como Provincia, y hay Provincias repetidas cuyo nombre varía en la presencia o no de un tilde (como Córdoba), o varía por cómo está definido (Neuquén está en minúscula y en mayúscula)."
      ]
    },
    {
      "cell_type": "markdown",
      "metadata": {
        "id": "wbAAxtVSOTpd",
        "colab_type": "text"
      },
      "source": [
        "# Representación de Datos - Grafos"
      ]
    },
    {
      "cell_type": "markdown",
      "metadata": {
        "id": "VwProIHYXGIJ",
        "colab_type": "text"
      },
      "source": [
        "## Ejercicio\n",
        "\n",
        "A continuación, a partir del grafo propuesto durante la clase, definimos una lista de pares ordenados, una matriz de adyacencia y una lista de adjacencia:"
      ]
    },
    {
      "cell_type": "code",
      "metadata": {
        "id": "UjSiCs3-OTpd",
        "colab_type": "code",
        "colab": {
          "base_uri": "https://localhost:8080/",
          "height": 34
        },
        "outputId": "1a3e79e0-1f12-4dde-a6ea-eac482a13ced"
      },
      "source": [
        "# Lista de pares ordenados\n",
        "edgeList = [[0,2], [1,3], [2,3], [2,4], [3,5], [4,5]];\n",
        "edgeList"
      ],
      "execution_count": 26,
      "outputs": [
        {
          "output_type": "execute_result",
          "data": {
            "text/plain": [
              "[[0, 2], [1, 3], [2, 3], [2, 4], [3, 5], [4, 5]]"
            ]
          },
          "metadata": {
            "tags": []
          },
          "execution_count": 26
        }
      ]
    },
    {
      "cell_type": "code",
      "metadata": {
        "id": "dGz2SfM8OTpg",
        "colab_type": "code",
        "colab": {
          "base_uri": "https://localhost:8080/",
          "height": 121
        },
        "outputId": "3fabc13b-8ad0-494d-8d90-2ca64e51bd9a"
      },
      "source": [
        "# Matriz de adjacencia\n",
        "adjMatrix = numpy.zeros(shape=(6,6))\n",
        "\n",
        "for nodo in edgeList:\n",
        "    x = nodo[0]\n",
        "    y = nodo[1]\n",
        "    adjMatrix[x,y] = 1\n",
        "\n",
        "adjMatrix"
      ],
      "execution_count": 27,
      "outputs": [
        {
          "output_type": "execute_result",
          "data": {
            "text/plain": [
              "array([[0., 0., 1., 0., 0., 0.],\n",
              "       [0., 0., 0., 1., 0., 0.],\n",
              "       [0., 0., 0., 1., 1., 0.],\n",
              "       [0., 0., 0., 0., 0., 1.],\n",
              "       [0., 0., 0., 0., 0., 1.],\n",
              "       [0., 0., 0., 0., 0., 0.]])"
            ]
          },
          "metadata": {
            "tags": []
          },
          "execution_count": 27
        }
      ]
    },
    {
      "cell_type": "code",
      "metadata": {
        "id": "ZZIgL-JlRfxQ",
        "colab_type": "code",
        "colab": {
          "base_uri": "https://localhost:8080/",
          "height": 34
        },
        "outputId": "4fa5202f-5fed-4f0f-9940-f455f348ae28"
      },
      "source": [
        "# Lista de adjacencia\n",
        "adjList = []\n",
        "for nodo in edgeList:\n",
        "    if ((len(adjList) == 0) or ((len(adjList)-1) < nodo[0])):\n",
        "        adjList.insert(nodo[0], [nodo[1]])\n",
        "    else:\n",
        "        tmp = adjList[nodo[0]]\n",
        "        tmp.append(nodo[1])\n",
        "        adjList[nodo[0]] = tmp\n",
        "adjList"
      ],
      "execution_count": 28,
      "outputs": [
        {
          "output_type": "execute_result",
          "data": {
            "text/plain": [
              "[[2], [3], [3, 4], [5], [5]]"
            ]
          },
          "metadata": {
            "tags": []
          },
          "execution_count": 28
        }
      ]
    },
    {
      "cell_type": "markdown",
      "metadata": {
        "id": "7djgYwjdOTpk",
        "colab_type": "text"
      },
      "source": [
        "# Limpieza de Datos\n"
      ]
    },
    {
      "cell_type": "markdown",
      "metadata": {
        "id": "tct_JbDOOTpl",
        "colab_type": "text"
      },
      "source": [
        "Veamos de importar datos de proyectos de Kickstarter la plataforma de Crowdsourcing."
      ]
    },
    {
      "cell_type": "markdown",
      "metadata": {
        "id": "mGRvhda-jzfY",
        "colab_type": "text"
      },
      "source": [
        "# 1.1 Verificar que no hay problemas en la importación"
      ]
    },
    {
      "cell_type": "code",
      "metadata": {
        "id": "Spqxtx02OTpl",
        "colab_type": "code",
        "colab": {}
      },
      "source": [
        "kickstarter_2018 = pandas.read_csv(BASE_DIR + \"/input/kickstarter-projects/ks-projects-201801.csv\", \n",
        "                                   parse_dates=[\"deadline\",\"launched\"],\n",
        "                                   index_col=['ID'])"
      ],
      "execution_count": 29,
      "outputs": []
    },
    {
      "cell_type": "markdown",
      "metadata": {
        "id": "Kgpq2hW2kK9z",
        "colab_type": "text"
      },
      "source": [
        "Veamos el resumen de los datos"
      ]
    },
    {
      "cell_type": "code",
      "metadata": {
        "id": "YoMmJj7lkRbc",
        "colab_type": "code",
        "colab": {
          "base_uri": "https://localhost:8080/",
          "height": 547
        },
        "outputId": "23cab7f0-a16a-4e2f-b05b-23e983147fd6"
      },
      "source": [
        "kickstarter_2018.describe(include='all')"
      ],
      "execution_count": 30,
      "outputs": [
        {
          "output_type": "execute_result",
          "data": {
            "text/html": [
              "<div>\n",
              "<style scoped>\n",
              "    .dataframe tbody tr th:only-of-type {\n",
              "        vertical-align: middle;\n",
              "    }\n",
              "\n",
              "    .dataframe tbody tr th {\n",
              "        vertical-align: top;\n",
              "    }\n",
              "\n",
              "    .dataframe thead th {\n",
              "        text-align: right;\n",
              "    }\n",
              "</style>\n",
              "<table border=\"1\" class=\"dataframe\">\n",
              "  <thead>\n",
              "    <tr style=\"text-align: right;\">\n",
              "      <th></th>\n",
              "      <th>name</th>\n",
              "      <th>category</th>\n",
              "      <th>main_category</th>\n",
              "      <th>currency</th>\n",
              "      <th>deadline</th>\n",
              "      <th>goal</th>\n",
              "      <th>launched</th>\n",
              "      <th>pledged</th>\n",
              "      <th>state</th>\n",
              "      <th>backers</th>\n",
              "      <th>country</th>\n",
              "      <th>usd pledged</th>\n",
              "      <th>usd_pledged_real</th>\n",
              "      <th>usd_goal_real</th>\n",
              "    </tr>\n",
              "  </thead>\n",
              "  <tbody>\n",
              "    <tr>\n",
              "      <th>count</th>\n",
              "      <td>378657</td>\n",
              "      <td>378661</td>\n",
              "      <td>378661</td>\n",
              "      <td>378661</td>\n",
              "      <td>378661</td>\n",
              "      <td>378661.00</td>\n",
              "      <td>378661</td>\n",
              "      <td>378661.00</td>\n",
              "      <td>378661</td>\n",
              "      <td>378661.00</td>\n",
              "      <td>378661</td>\n",
              "      <td>374864.00</td>\n",
              "      <td>378661.00</td>\n",
              "      <td>378661.00</td>\n",
              "    </tr>\n",
              "    <tr>\n",
              "      <th>unique</th>\n",
              "      <td>375764</td>\n",
              "      <td>159</td>\n",
              "      <td>15</td>\n",
              "      <td>14</td>\n",
              "      <td>3164</td>\n",
              "      <td>nan</td>\n",
              "      <td>378089</td>\n",
              "      <td>nan</td>\n",
              "      <td>6</td>\n",
              "      <td>nan</td>\n",
              "      <td>23</td>\n",
              "      <td>nan</td>\n",
              "      <td>nan</td>\n",
              "      <td>nan</td>\n",
              "    </tr>\n",
              "    <tr>\n",
              "      <th>top</th>\n",
              "      <td>New EP/Music Development</td>\n",
              "      <td>Product Design</td>\n",
              "      <td>Film &amp; Video</td>\n",
              "      <td>USD</td>\n",
              "      <td>2014-08-08 00:00:00</td>\n",
              "      <td>nan</td>\n",
              "      <td>1970-01-01 01:00:00</td>\n",
              "      <td>nan</td>\n",
              "      <td>failed</td>\n",
              "      <td>nan</td>\n",
              "      <td>US</td>\n",
              "      <td>nan</td>\n",
              "      <td>nan</td>\n",
              "      <td>nan</td>\n",
              "    </tr>\n",
              "    <tr>\n",
              "      <th>freq</th>\n",
              "      <td>41</td>\n",
              "      <td>22314</td>\n",
              "      <td>63585</td>\n",
              "      <td>295365</td>\n",
              "      <td>705</td>\n",
              "      <td>nan</td>\n",
              "      <td>7</td>\n",
              "      <td>nan</td>\n",
              "      <td>197719</td>\n",
              "      <td>nan</td>\n",
              "      <td>292627</td>\n",
              "      <td>nan</td>\n",
              "      <td>nan</td>\n",
              "      <td>nan</td>\n",
              "    </tr>\n",
              "    <tr>\n",
              "      <th>first</th>\n",
              "      <td>NaN</td>\n",
              "      <td>NaN</td>\n",
              "      <td>NaN</td>\n",
              "      <td>NaN</td>\n",
              "      <td>2009-05-03 00:00:00</td>\n",
              "      <td>nan</td>\n",
              "      <td>1970-01-01 01:00:00</td>\n",
              "      <td>nan</td>\n",
              "      <td>NaN</td>\n",
              "      <td>nan</td>\n",
              "      <td>NaN</td>\n",
              "      <td>nan</td>\n",
              "      <td>nan</td>\n",
              "      <td>nan</td>\n",
              "    </tr>\n",
              "    <tr>\n",
              "      <th>last</th>\n",
              "      <td>NaN</td>\n",
              "      <td>NaN</td>\n",
              "      <td>NaN</td>\n",
              "      <td>NaN</td>\n",
              "      <td>2018-03-03 00:00:00</td>\n",
              "      <td>nan</td>\n",
              "      <td>2018-01-02 15:02:31</td>\n",
              "      <td>nan</td>\n",
              "      <td>NaN</td>\n",
              "      <td>nan</td>\n",
              "      <td>NaN</td>\n",
              "      <td>nan</td>\n",
              "      <td>nan</td>\n",
              "      <td>nan</td>\n",
              "    </tr>\n",
              "    <tr>\n",
              "      <th>mean</th>\n",
              "      <td>NaN</td>\n",
              "      <td>NaN</td>\n",
              "      <td>NaN</td>\n",
              "      <td>NaN</td>\n",
              "      <td>NaN</td>\n",
              "      <td>49080.79</td>\n",
              "      <td>NaN</td>\n",
              "      <td>9682.98</td>\n",
              "      <td>NaN</td>\n",
              "      <td>105.62</td>\n",
              "      <td>NaN</td>\n",
              "      <td>7036.73</td>\n",
              "      <td>9058.92</td>\n",
              "      <td>45454.40</td>\n",
              "    </tr>\n",
              "    <tr>\n",
              "      <th>std</th>\n",
              "      <td>NaN</td>\n",
              "      <td>NaN</td>\n",
              "      <td>NaN</td>\n",
              "      <td>NaN</td>\n",
              "      <td>NaN</td>\n",
              "      <td>1183391.26</td>\n",
              "      <td>NaN</td>\n",
              "      <td>95636.01</td>\n",
              "      <td>NaN</td>\n",
              "      <td>907.19</td>\n",
              "      <td>NaN</td>\n",
              "      <td>78639.75</td>\n",
              "      <td>90973.34</td>\n",
              "      <td>1152950.06</td>\n",
              "    </tr>\n",
              "    <tr>\n",
              "      <th>min</th>\n",
              "      <td>NaN</td>\n",
              "      <td>NaN</td>\n",
              "      <td>NaN</td>\n",
              "      <td>NaN</td>\n",
              "      <td>NaN</td>\n",
              "      <td>0.01</td>\n",
              "      <td>NaN</td>\n",
              "      <td>0.00</td>\n",
              "      <td>NaN</td>\n",
              "      <td>0.00</td>\n",
              "      <td>NaN</td>\n",
              "      <td>0.00</td>\n",
              "      <td>0.00</td>\n",
              "      <td>0.01</td>\n",
              "    </tr>\n",
              "    <tr>\n",
              "      <th>25%</th>\n",
              "      <td>NaN</td>\n",
              "      <td>NaN</td>\n",
              "      <td>NaN</td>\n",
              "      <td>NaN</td>\n",
              "      <td>NaN</td>\n",
              "      <td>2000.00</td>\n",
              "      <td>NaN</td>\n",
              "      <td>30.00</td>\n",
              "      <td>NaN</td>\n",
              "      <td>2.00</td>\n",
              "      <td>NaN</td>\n",
              "      <td>16.98</td>\n",
              "      <td>31.00</td>\n",
              "      <td>2000.00</td>\n",
              "    </tr>\n",
              "    <tr>\n",
              "      <th>50%</th>\n",
              "      <td>NaN</td>\n",
              "      <td>NaN</td>\n",
              "      <td>NaN</td>\n",
              "      <td>NaN</td>\n",
              "      <td>NaN</td>\n",
              "      <td>5200.00</td>\n",
              "      <td>NaN</td>\n",
              "      <td>620.00</td>\n",
              "      <td>NaN</td>\n",
              "      <td>12.00</td>\n",
              "      <td>NaN</td>\n",
              "      <td>394.72</td>\n",
              "      <td>624.33</td>\n",
              "      <td>5500.00</td>\n",
              "    </tr>\n",
              "    <tr>\n",
              "      <th>75%</th>\n",
              "      <td>NaN</td>\n",
              "      <td>NaN</td>\n",
              "      <td>NaN</td>\n",
              "      <td>NaN</td>\n",
              "      <td>NaN</td>\n",
              "      <td>16000.00</td>\n",
              "      <td>NaN</td>\n",
              "      <td>4076.00</td>\n",
              "      <td>NaN</td>\n",
              "      <td>56.00</td>\n",
              "      <td>NaN</td>\n",
              "      <td>3034.09</td>\n",
              "      <td>4050.00</td>\n",
              "      <td>15500.00</td>\n",
              "    </tr>\n",
              "    <tr>\n",
              "      <th>max</th>\n",
              "      <td>NaN</td>\n",
              "      <td>NaN</td>\n",
              "      <td>NaN</td>\n",
              "      <td>NaN</td>\n",
              "      <td>NaN</td>\n",
              "      <td>100000000.00</td>\n",
              "      <td>NaN</td>\n",
              "      <td>20338986.27</td>\n",
              "      <td>NaN</td>\n",
              "      <td>219382.00</td>\n",
              "      <td>NaN</td>\n",
              "      <td>20338986.27</td>\n",
              "      <td>20338986.27</td>\n",
              "      <td>166361390.71</td>\n",
              "    </tr>\n",
              "  </tbody>\n",
              "</table>\n",
              "</div>"
            ],
            "text/plain": [
              "                            name  ... usd_goal_real\n",
              "count                     378657  ...     378661.00\n",
              "unique                    375764  ...           nan\n",
              "top     New EP/Music Development  ...           nan\n",
              "freq                          41  ...           nan\n",
              "first                        NaN  ...           nan\n",
              "last                         NaN  ...           nan\n",
              "mean                         NaN  ...      45454.40\n",
              "std                          NaN  ...    1152950.06\n",
              "min                          NaN  ...          0.01\n",
              "25%                          NaN  ...       2000.00\n",
              "50%                          NaN  ...       5500.00\n",
              "75%                          NaN  ...      15500.00\n",
              "max                          NaN  ...  166361390.71\n",
              "\n",
              "[13 rows x 14 columns]"
            ]
          },
          "metadata": {
            "tags": []
          },
          "execution_count": 30
        }
      ]
    },
    {
      "cell_type": "markdown",
      "metadata": {
        "id": "6-peXV1_ktSI",
        "colab_type": "text"
      },
      "source": [
        "Podemos ver que tenemos primero y último en el resumen de las columnas de fechas."
      ]
    },
    {
      "cell_type": "markdown",
      "metadata": {
        "id": "vfm7jlv2iL5F",
        "colab_type": "text"
      },
      "source": [
        "# 1.2 Asegurar de tener ids/claves únicas"
      ]
    },
    {
      "cell_type": "markdown",
      "metadata": {
        "id": "c1lwQUUdVUpd",
        "colab_type": "text"
      },
      "source": [
        "## Ejercicio 1"
      ]
    },
    {
      "cell_type": "markdown",
      "metadata": {
        "id": "iVlxej--OTpp",
        "colab_type": "text"
      },
      "source": [
        "Armar una tabla con todos los proyectos con nombres duplicados, ordenados para revisar agrupados."
      ]
    },
    {
      "cell_type": "code",
      "metadata": {
        "id": "6mf_wSJpOTpp",
        "colab_type": "code",
        "colab": {
          "base_uri": "https://localhost:8080/",
          "height": 684
        },
        "outputId": "2a6080f8-c864-4f3b-af55-1f9561543700"
      },
      "source": [
        "df_duplicados  = kickstarter_2018[kickstarter_2018[['name','category','main_category']].duplicated()]\n",
        "df_duplicados"
      ],
      "execution_count": 31,
      "outputs": [
        {
          "output_type": "execute_result",
          "data": {
            "text/html": [
              "<div>\n",
              "<style scoped>\n",
              "    .dataframe tbody tr th:only-of-type {\n",
              "        vertical-align: middle;\n",
              "    }\n",
              "\n",
              "    .dataframe tbody tr th {\n",
              "        vertical-align: top;\n",
              "    }\n",
              "\n",
              "    .dataframe thead th {\n",
              "        text-align: right;\n",
              "    }\n",
              "</style>\n",
              "<table border=\"1\" class=\"dataframe\">\n",
              "  <thead>\n",
              "    <tr style=\"text-align: right;\">\n",
              "      <th></th>\n",
              "      <th>name</th>\n",
              "      <th>category</th>\n",
              "      <th>main_category</th>\n",
              "      <th>currency</th>\n",
              "      <th>deadline</th>\n",
              "      <th>goal</th>\n",
              "      <th>launched</th>\n",
              "      <th>pledged</th>\n",
              "      <th>state</th>\n",
              "      <th>backers</th>\n",
              "      <th>country</th>\n",
              "      <th>usd pledged</th>\n",
              "      <th>usd_pledged_real</th>\n",
              "      <th>usd_goal_real</th>\n",
              "    </tr>\n",
              "    <tr>\n",
              "      <th>ID</th>\n",
              "      <th></th>\n",
              "      <th></th>\n",
              "      <th></th>\n",
              "      <th></th>\n",
              "      <th></th>\n",
              "      <th></th>\n",
              "      <th></th>\n",
              "      <th></th>\n",
              "      <th></th>\n",
              "      <th></th>\n",
              "      <th></th>\n",
              "      <th></th>\n",
              "      <th></th>\n",
              "      <th></th>\n",
              "    </tr>\n",
              "  </thead>\n",
              "  <tbody>\n",
              "    <tr>\n",
              "      <th>1039093987</th>\n",
              "      <td>New EP/Music Development</td>\n",
              "      <td>Music</td>\n",
              "      <td>Music</td>\n",
              "      <td>USD</td>\n",
              "      <td>2016-01-07</td>\n",
              "      <td>3800.00</td>\n",
              "      <td>2015-11-24 15:29:35</td>\n",
              "      <td>257.00</td>\n",
              "      <td>undefined</td>\n",
              "      <td>0</td>\n",
              "      <td>N,0\"</td>\n",
              "      <td>nan</td>\n",
              "      <td>257.00</td>\n",
              "      <td>3800.00</td>\n",
              "    </tr>\n",
              "    <tr>\n",
              "      <th>1046840222</th>\n",
              "      <td>Quick Quests: TCG</td>\n",
              "      <td>Tabletop Games</td>\n",
              "      <td>Games</td>\n",
              "      <td>USD</td>\n",
              "      <td>2016-09-01</td>\n",
              "      <td>1000.00</td>\n",
              "      <td>2016-08-20 03:31:20</td>\n",
              "      <td>436.00</td>\n",
              "      <td>failed</td>\n",
              "      <td>16</td>\n",
              "      <td>US</td>\n",
              "      <td>304.00</td>\n",
              "      <td>436.00</td>\n",
              "      <td>1000.00</td>\n",
              "    </tr>\n",
              "    <tr>\n",
              "      <th>1091088385</th>\n",
              "      <td>The Pitch</td>\n",
              "      <td>Shorts</td>\n",
              "      <td>Film &amp; Video</td>\n",
              "      <td>USD</td>\n",
              "      <td>2011-11-03</td>\n",
              "      <td>11000.00</td>\n",
              "      <td>2011-09-04 06:28:11</td>\n",
              "      <td>3310.00</td>\n",
              "      <td>failed</td>\n",
              "      <td>18</td>\n",
              "      <td>US</td>\n",
              "      <td>3310.00</td>\n",
              "      <td>3310.00</td>\n",
              "      <td>11000.00</td>\n",
              "    </tr>\n",
              "    <tr>\n",
              "      <th>1108565605</th>\n",
              "      <td>New EP/Music Development</td>\n",
              "      <td>Music</td>\n",
              "      <td>Music</td>\n",
              "      <td>USD</td>\n",
              "      <td>2016-01-28</td>\n",
              "      <td>3000.00</td>\n",
              "      <td>2015-12-21 20:39:56</td>\n",
              "      <td>40.00</td>\n",
              "      <td>undefined</td>\n",
              "      <td>0</td>\n",
              "      <td>N,0\"</td>\n",
              "      <td>nan</td>\n",
              "      <td>40.00</td>\n",
              "      <td>3000.00</td>\n",
              "    </tr>\n",
              "    <tr>\n",
              "      <th>1117967622</th>\n",
              "      <td>New EP/Music Development</td>\n",
              "      <td>Music</td>\n",
              "      <td>Music</td>\n",
              "      <td>USD</td>\n",
              "      <td>2015-12-14</td>\n",
              "      <td>3000.00</td>\n",
              "      <td>2015-11-09 18:46:47</td>\n",
              "      <td>431.00</td>\n",
              "      <td>undefined</td>\n",
              "      <td>0</td>\n",
              "      <td>N,0\"</td>\n",
              "      <td>nan</td>\n",
              "      <td>431.00</td>\n",
              "      <td>3000.00</td>\n",
              "    </tr>\n",
              "    <tr>\n",
              "      <th>...</th>\n",
              "      <td>...</td>\n",
              "      <td>...</td>\n",
              "      <td>...</td>\n",
              "      <td>...</td>\n",
              "      <td>...</td>\n",
              "      <td>...</td>\n",
              "      <td>...</td>\n",
              "      <td>...</td>\n",
              "      <td>...</td>\n",
              "      <td>...</td>\n",
              "      <td>...</td>\n",
              "      <td>...</td>\n",
              "      <td>...</td>\n",
              "      <td>...</td>\n",
              "    </tr>\n",
              "    <tr>\n",
              "      <th>995318657</th>\n",
              "      <td>Stötta Vandringsbloggen Community</td>\n",
              "      <td>Publishing</td>\n",
              "      <td>Publishing</td>\n",
              "      <td>SEK</td>\n",
              "      <td>2016-12-31</td>\n",
              "      <td>30000.00</td>\n",
              "      <td>2016-11-20 00:14:36</td>\n",
              "      <td>100.00</td>\n",
              "      <td>canceled</td>\n",
              "      <td>2</td>\n",
              "      <td>SE</td>\n",
              "      <td>10.81</td>\n",
              "      <td>11.09</td>\n",
              "      <td>3325.87</td>\n",
              "    </tr>\n",
              "    <tr>\n",
              "      <th>99598621</th>\n",
              "      <td>Romeo &amp; Juliet</td>\n",
              "      <td>Plays</td>\n",
              "      <td>Theater</td>\n",
              "      <td>USD</td>\n",
              "      <td>2017-09-18</td>\n",
              "      <td>3000.00</td>\n",
              "      <td>2017-08-31 16:02:20</td>\n",
              "      <td>3061.00</td>\n",
              "      <td>successful</td>\n",
              "      <td>60</td>\n",
              "      <td>US</td>\n",
              "      <td>200.00</td>\n",
              "      <td>3061.00</td>\n",
              "      <td>3000.00</td>\n",
              "    </tr>\n",
              "    <tr>\n",
              "      <th>997076604</th>\n",
              "      <td>Lie Detector App</td>\n",
              "      <td>Apps</td>\n",
              "      <td>Technology</td>\n",
              "      <td>USD</td>\n",
              "      <td>2015-03-12</td>\n",
              "      <td>10000.00</td>\n",
              "      <td>2015-02-10 12:05:18</td>\n",
              "      <td>0.00</td>\n",
              "      <td>failed</td>\n",
              "      <td>0</td>\n",
              "      <td>US</td>\n",
              "      <td>0.00</td>\n",
              "      <td>0.00</td>\n",
              "      <td>10000.00</td>\n",
              "    </tr>\n",
              "    <tr>\n",
              "      <th>998836498</th>\n",
              "      <td>The InAction</td>\n",
              "      <td>Camera Equipment</td>\n",
              "      <td>Technology</td>\n",
              "      <td>USD</td>\n",
              "      <td>2016-07-29</td>\n",
              "      <td>80000.00</td>\n",
              "      <td>2016-06-28 04:00:08</td>\n",
              "      <td>670.00</td>\n",
              "      <td>canceled</td>\n",
              "      <td>5</td>\n",
              "      <td>US</td>\n",
              "      <td>410.00</td>\n",
              "      <td>670.00</td>\n",
              "      <td>80000.00</td>\n",
              "    </tr>\n",
              "    <tr>\n",
              "      <th>999410766</th>\n",
              "      <td>Guilt</td>\n",
              "      <td>Shorts</td>\n",
              "      <td>Film &amp; Video</td>\n",
              "      <td>USD</td>\n",
              "      <td>2014-05-16</td>\n",
              "      <td>65000.00</td>\n",
              "      <td>2014-04-16 17:45:46</td>\n",
              "      <td>791.00</td>\n",
              "      <td>failed</td>\n",
              "      <td>7</td>\n",
              "      <td>US</td>\n",
              "      <td>791.00</td>\n",
              "      <td>791.00</td>\n",
              "      <td>65000.00</td>\n",
              "    </tr>\n",
              "  </tbody>\n",
              "</table>\n",
              "<p>842 rows × 14 columns</p>\n",
              "</div>"
            ],
            "text/plain": [
              "                                         name  ... usd_goal_real\n",
              "ID                                             ...              \n",
              "1039093987           New EP/Music Development  ...       3800.00\n",
              "1046840222                  Quick Quests: TCG  ...       1000.00\n",
              "1091088385                          The Pitch  ...      11000.00\n",
              "1108565605           New EP/Music Development  ...       3000.00\n",
              "1117967622           New EP/Music Development  ...       3000.00\n",
              "...                                       ...  ...           ...\n",
              "995318657   Stötta Vandringsbloggen Community  ...       3325.87\n",
              "99598621                       Romeo & Juliet  ...       3000.00\n",
              "997076604                    Lie Detector App  ...      10000.00\n",
              "998836498                        The InAction  ...      80000.00\n",
              "999410766                               Guilt  ...      65000.00\n",
              "\n",
              "[842 rows x 14 columns]"
            ]
          },
          "metadata": {
            "tags": []
          },
          "execution_count": 31
        }
      ]
    },
    {
      "cell_type": "markdown",
      "metadata": {
        "id": "2gba8nXmlPiE",
        "colab_type": "text"
      },
      "source": [
        "# 1.3 Despersonalizar datos y guardarlos en un nuevo archivo"
      ]
    },
    {
      "cell_type": "code",
      "metadata": {
        "id": "rgsdsFa0OTps",
        "colab_type": "code",
        "colab": {}
      },
      "source": [
        "from hashlib import md5"
      ],
      "execution_count": 32,
      "outputs": []
    },
    {
      "cell_type": "code",
      "metadata": {
        "id": "eObOxwUyOTpv",
        "colab_type": "code",
        "colab": {}
      },
      "source": [
        "def hashit(val):\n",
        "    if isinstance(val, float): \n",
        "        return str(val)\n",
        "    return md5(val.encode('utf-8')).hexdigest()\n",
        "\n",
        "kickstarter_2018['name_hash'] = kickstarter_2018['name'].apply(hashit)"
      ],
      "execution_count": 33,
      "outputs": []
    },
    {
      "cell_type": "markdown",
      "metadata": {
        "id": "KS92Z7BtOTps",
        "colab_type": "text"
      },
      "source": [
        "#### Ejercicio 2\n",
        "\n",
        "Verificar que los proyectos que tienen nombres duplicados también tienen el hash de nombre duplicado."
      ]
    },
    {
      "cell_type": "code",
      "metadata": {
        "id": "Gu4MEY8HOTpx",
        "colab_type": "code",
        "colab": {
          "base_uri": "https://localhost:8080/",
          "height": 455
        },
        "outputId": "5a1a926d-a9f3-4f0a-9b08-7c7eaa314edc"
      },
      "source": [
        "kickstarter_2018[kickstarter_2018[['name','name_hash']].duplicated(keep=False)][['name','name_hash']].sort_values('name')\n"
      ],
      "execution_count": 34,
      "outputs": [
        {
          "output_type": "execute_result",
          "data": {
            "text/html": [
              "<div>\n",
              "<style scoped>\n",
              "    .dataframe tbody tr th:only-of-type {\n",
              "        vertical-align: middle;\n",
              "    }\n",
              "\n",
              "    .dataframe tbody tr th {\n",
              "        vertical-align: top;\n",
              "    }\n",
              "\n",
              "    .dataframe thead th {\n",
              "        text-align: right;\n",
              "    }\n",
              "</style>\n",
              "<table border=\"1\" class=\"dataframe\">\n",
              "  <thead>\n",
              "    <tr style=\"text-align: right;\">\n",
              "      <th></th>\n",
              "      <th>name</th>\n",
              "      <th>name_hash</th>\n",
              "    </tr>\n",
              "    <tr>\n",
              "      <th>ID</th>\n",
              "      <th></th>\n",
              "      <th></th>\n",
              "    </tr>\n",
              "  </thead>\n",
              "  <tbody>\n",
              "    <tr>\n",
              "      <th>816998285</th>\n",
              "      <td>\"...The Last shall be first...\" LODB Lifestyle...</td>\n",
              "      <td>0c7a251ffe4c7834cbc4b04906952ff1</td>\n",
              "    </tr>\n",
              "    <tr>\n",
              "      <th>815783250</th>\n",
              "      <td>\"...The Last shall be first...\" LODB Lifestyle...</td>\n",
              "      <td>0c7a251ffe4c7834cbc4b04906952ff1</td>\n",
              "    </tr>\n",
              "    <tr>\n",
              "      <th>1010584633</th>\n",
              "      <td>\"A Fresh Start\"</td>\n",
              "      <td>67554ab4203d95f2f2f05365f768206e</td>\n",
              "    </tr>\n",
              "    <tr>\n",
              "      <th>713417995</th>\n",
              "      <td>\"A Fresh Start\"</td>\n",
              "      <td>67554ab4203d95f2f2f05365f768206e</td>\n",
              "    </tr>\n",
              "    <tr>\n",
              "      <th>1880084695</th>\n",
              "      <td>\"American Sports Stories\" - An Athletic Quest</td>\n",
              "      <td>19a82bc4c5961834282575d07d9b5f7c</td>\n",
              "    </tr>\n",
              "    <tr>\n",
              "      <th>...</th>\n",
              "      <td>...</td>\n",
              "      <td>...</td>\n",
              "    </tr>\n",
              "    <tr>\n",
              "      <th>329580179</th>\n",
              "      <td>xxx (Canceled)</td>\n",
              "      <td>930857c212f21166427b23d4a7fe52a3</td>\n",
              "    </tr>\n",
              "    <tr>\n",
              "      <th>1848699072</th>\n",
              "      <td>NaN</td>\n",
              "      <td>nan</td>\n",
              "    </tr>\n",
              "    <tr>\n",
              "      <th>634871725</th>\n",
              "      <td>NaN</td>\n",
              "      <td>nan</td>\n",
              "    </tr>\n",
              "    <tr>\n",
              "      <th>648853978</th>\n",
              "      <td>NaN</td>\n",
              "      <td>nan</td>\n",
              "    </tr>\n",
              "    <tr>\n",
              "      <th>796533179</th>\n",
              "      <td>NaN</td>\n",
              "      <td>nan</td>\n",
              "    </tr>\n",
              "  </tbody>\n",
              "</table>\n",
              "<p>5125 rows × 2 columns</p>\n",
              "</div>"
            ],
            "text/plain": [
              "                                                         name                         name_hash\n",
              "ID                                                                                             \n",
              "816998285   \"...The Last shall be first...\" LODB Lifestyle...  0c7a251ffe4c7834cbc4b04906952ff1\n",
              "815783250   \"...The Last shall be first...\" LODB Lifestyle...  0c7a251ffe4c7834cbc4b04906952ff1\n",
              "1010584633                                    \"A Fresh Start\"  67554ab4203d95f2f2f05365f768206e\n",
              "713417995                                     \"A Fresh Start\"  67554ab4203d95f2f2f05365f768206e\n",
              "1880084695      \"American Sports Stories\" - An Athletic Quest  19a82bc4c5961834282575d07d9b5f7c\n",
              "...                                                       ...                               ...\n",
              "329580179                                      xxx (Canceled)  930857c212f21166427b23d4a7fe52a3\n",
              "1848699072                                                NaN                               nan\n",
              "634871725                                                 NaN                               nan\n",
              "648853978                                                 NaN                               nan\n",
              "796533179                                                 NaN                               nan\n",
              "\n",
              "[5125 rows x 2 columns]"
            ]
          },
          "metadata": {
            "tags": []
          },
          "execution_count": 34
        }
      ]
    },
    {
      "cell_type": "markdown",
      "metadata": {
        "id": "ZzchT3_3x2WI",
        "colab_type": "text"
      },
      "source": [
        "Se observa en las primeras filas a un par de proyectos duplicados, y que mantienen el mismo hash."
      ]
    },
    {
      "cell_type": "markdown",
      "metadata": {
        "id": "zSJ3-WJHVqWp",
        "colab_type": "text"
      },
      "source": [
        "# Pasos necesarios"
      ]
    },
    {
      "cell_type": "markdown",
      "metadata": {
        "id": "Q83jPZJ6mGc3",
        "colab_type": "text"
      },
      "source": [
        "## 2.1 Etiquetas de variables/columnas: no usar caracteres especiales\n",
        "\n",
        "Chequeamos que no haya caracteres fuera de a-Z, 0-9 y _ en los nombres de columnas"
      ]
    },
    {
      "cell_type": "code",
      "metadata": {
        "id": "UfKTaBLhnaVy",
        "colab_type": "code",
        "colab": {
          "base_uri": "https://localhost:8080/",
          "height": 34
        },
        "outputId": "a04455d8-6740-4e73-b040-2e90b32d8b16"
      },
      "source": [
        "kickstarter_2018.columns[~kickstarter_2018.columns.str.match(r'^(\\w+)$')]"
      ],
      "execution_count": 35,
      "outputs": [
        {
          "output_type": "execute_result",
          "data": {
            "text/plain": [
              "Index(['usd pledged'], dtype='object')"
            ]
          },
          "metadata": {
            "tags": []
          },
          "execution_count": 35
        }
      ]
    },
    {
      "cell_type": "code",
      "metadata": {
        "id": "i7fkysxHntSZ",
        "colab_type": "code",
        "colab": {
          "base_uri": "https://localhost:8080/",
          "height": 483
        },
        "outputId": "7319d14f-e421-49b8-9689-d68d2a5fe63c"
      },
      "source": [
        "kickstarter_2018.columns = kickstarter_2018.columns.str.replace(' ', '_')\n",
        "kickstarter_2018.head()"
      ],
      "execution_count": 36,
      "outputs": [
        {
          "output_type": "execute_result",
          "data": {
            "text/html": [
              "<div>\n",
              "<style scoped>\n",
              "    .dataframe tbody tr th:only-of-type {\n",
              "        vertical-align: middle;\n",
              "    }\n",
              "\n",
              "    .dataframe tbody tr th {\n",
              "        vertical-align: top;\n",
              "    }\n",
              "\n",
              "    .dataframe thead th {\n",
              "        text-align: right;\n",
              "    }\n",
              "</style>\n",
              "<table border=\"1\" class=\"dataframe\">\n",
              "  <thead>\n",
              "    <tr style=\"text-align: right;\">\n",
              "      <th></th>\n",
              "      <th>name</th>\n",
              "      <th>category</th>\n",
              "      <th>main_category</th>\n",
              "      <th>currency</th>\n",
              "      <th>deadline</th>\n",
              "      <th>goal</th>\n",
              "      <th>launched</th>\n",
              "      <th>pledged</th>\n",
              "      <th>state</th>\n",
              "      <th>backers</th>\n",
              "      <th>country</th>\n",
              "      <th>usd_pledged</th>\n",
              "      <th>usd_pledged_real</th>\n",
              "      <th>usd_goal_real</th>\n",
              "      <th>name_hash</th>\n",
              "    </tr>\n",
              "    <tr>\n",
              "      <th>ID</th>\n",
              "      <th></th>\n",
              "      <th></th>\n",
              "      <th></th>\n",
              "      <th></th>\n",
              "      <th></th>\n",
              "      <th></th>\n",
              "      <th></th>\n",
              "      <th></th>\n",
              "      <th></th>\n",
              "      <th></th>\n",
              "      <th></th>\n",
              "      <th></th>\n",
              "      <th></th>\n",
              "      <th></th>\n",
              "      <th></th>\n",
              "    </tr>\n",
              "  </thead>\n",
              "  <tbody>\n",
              "    <tr>\n",
              "      <th>1000002330</th>\n",
              "      <td>The Songs of Adelaide &amp; Abullah</td>\n",
              "      <td>Poetry</td>\n",
              "      <td>Publishing</td>\n",
              "      <td>GBP</td>\n",
              "      <td>2015-10-09</td>\n",
              "      <td>1000.00</td>\n",
              "      <td>2015-08-11 12:12:28</td>\n",
              "      <td>0.00</td>\n",
              "      <td>failed</td>\n",
              "      <td>0</td>\n",
              "      <td>GB</td>\n",
              "      <td>0.00</td>\n",
              "      <td>0.00</td>\n",
              "      <td>1533.95</td>\n",
              "      <td>a6828ae8a2eca25f0dd7035efc0af0a0</td>\n",
              "    </tr>\n",
              "    <tr>\n",
              "      <th>1000003930</th>\n",
              "      <td>Greeting From Earth: ZGAC Arts Capsule For ET</td>\n",
              "      <td>Narrative Film</td>\n",
              "      <td>Film &amp; Video</td>\n",
              "      <td>USD</td>\n",
              "      <td>2017-11-01</td>\n",
              "      <td>30000.00</td>\n",
              "      <td>2017-09-02 04:43:57</td>\n",
              "      <td>2421.00</td>\n",
              "      <td>failed</td>\n",
              "      <td>15</td>\n",
              "      <td>US</td>\n",
              "      <td>100.00</td>\n",
              "      <td>2421.00</td>\n",
              "      <td>30000.00</td>\n",
              "      <td>81609b3bdc0b96f429672d69702f2524</td>\n",
              "    </tr>\n",
              "    <tr>\n",
              "      <th>1000004038</th>\n",
              "      <td>Where is Hank?</td>\n",
              "      <td>Narrative Film</td>\n",
              "      <td>Film &amp; Video</td>\n",
              "      <td>USD</td>\n",
              "      <td>2013-02-26</td>\n",
              "      <td>45000.00</td>\n",
              "      <td>2013-01-12 00:20:50</td>\n",
              "      <td>220.00</td>\n",
              "      <td>failed</td>\n",
              "      <td>3</td>\n",
              "      <td>US</td>\n",
              "      <td>220.00</td>\n",
              "      <td>220.00</td>\n",
              "      <td>45000.00</td>\n",
              "      <td>c12f5c3bace2f0213cdb2679a265dca0</td>\n",
              "    </tr>\n",
              "    <tr>\n",
              "      <th>1000007540</th>\n",
              "      <td>ToshiCapital Rekordz Needs Help to Complete Album</td>\n",
              "      <td>Music</td>\n",
              "      <td>Music</td>\n",
              "      <td>USD</td>\n",
              "      <td>2012-04-16</td>\n",
              "      <td>5000.00</td>\n",
              "      <td>2012-03-17 03:24:11</td>\n",
              "      <td>1.00</td>\n",
              "      <td>failed</td>\n",
              "      <td>1</td>\n",
              "      <td>US</td>\n",
              "      <td>1.00</td>\n",
              "      <td>1.00</td>\n",
              "      <td>5000.00</td>\n",
              "      <td>4dbdcf09c86bbf5683ec39bc57b77f81</td>\n",
              "    </tr>\n",
              "    <tr>\n",
              "      <th>1000011046</th>\n",
              "      <td>Community Film Project: The Art of Neighborhoo...</td>\n",
              "      <td>Film &amp; Video</td>\n",
              "      <td>Film &amp; Video</td>\n",
              "      <td>USD</td>\n",
              "      <td>2015-08-29</td>\n",
              "      <td>19500.00</td>\n",
              "      <td>2015-07-04 08:35:03</td>\n",
              "      <td>1283.00</td>\n",
              "      <td>canceled</td>\n",
              "      <td>14</td>\n",
              "      <td>US</td>\n",
              "      <td>1283.00</td>\n",
              "      <td>1283.00</td>\n",
              "      <td>19500.00</td>\n",
              "      <td>9c01404a2ef702811c2088ce139042ad</td>\n",
              "    </tr>\n",
              "  </tbody>\n",
              "</table>\n",
              "</div>"
            ],
            "text/plain": [
              "                                                         name  ...                         name_hash\n",
              "ID                                                             ...                                  \n",
              "1000002330                    The Songs of Adelaide & Abullah  ...  a6828ae8a2eca25f0dd7035efc0af0a0\n",
              "1000003930      Greeting From Earth: ZGAC Arts Capsule For ET  ...  81609b3bdc0b96f429672d69702f2524\n",
              "1000004038                                     Where is Hank?  ...  c12f5c3bace2f0213cdb2679a265dca0\n",
              "1000007540  ToshiCapital Rekordz Needs Help to Complete Album  ...  4dbdcf09c86bbf5683ec39bc57b77f81\n",
              "1000011046  Community Film Project: The Art of Neighborhoo...  ...  9c01404a2ef702811c2088ce139042ad\n",
              "\n",
              "[5 rows x 15 columns]"
            ]
          },
          "metadata": {
            "tags": []
          },
          "execution_count": 36
        }
      ]
    },
    {
      "cell_type": "markdown",
      "metadata": {
        "id": "aWuEj75XOTpz",
        "colab_type": "text"
      },
      "source": [
        "#### Ejercicio 3\n",
        "\n",
        "Comparar la cantidad de nombres raros en kickstarter_2018 con la que obtenemos al cargar 'ks-projects-201801.csv' con encoding iso-8859-1."
      ]
    },
    {
      "cell_type": "markdown",
      "metadata": {
        "id": "1Eyo_l5XOTp2",
        "colab_type": "text"
      },
      "source": [
        "Para esto vamos a usar un módulo específico [ftfy](https://ftfy.readthedocs.io/en/latest/). \n",
        "\n",
        "Que nos permite ordenar cadenas por rareza"
      ]
    },
    {
      "cell_type": "code",
      "metadata": {
        "id": "fwn67Lj4OTp2",
        "colab_type": "code",
        "colab": {
          "base_uri": "https://localhost:8080/",
          "height": 141
        },
        "outputId": "ee04e2c3-878e-442b-bb8e-5ddb36378f61"
      },
      "source": [
        "if 'ftfy' not in sys.modules:\n",
        "    !pip install 'ftfy<5.6'\n",
        "    \n",
        "import ftfy.badness as bad"
      ],
      "execution_count": 37,
      "outputs": [
        {
          "output_type": "stream",
          "text": [
            "Collecting ftfy<5.6\n",
            "\u001b[?25l  Downloading https://files.pythonhosted.org/packages/8f/86/df789c5834f15ae1ca53a8d4c1fc4788676c2e32112f6a786f2625d9c6e6/ftfy-5.5.1-py3-none-any.whl (43kB)\n",
            "\r\u001b[K     |███████▌                        | 10kB 18.4MB/s eta 0:00:01\r\u001b[K     |███████████████                 | 20kB 1.7MB/s eta 0:00:01\r\u001b[K     |██████████████████████▍         | 30kB 2.3MB/s eta 0:00:01\r\u001b[K     |█████████████████████████████▉  | 40kB 2.5MB/s eta 0:00:01\r\u001b[K     |████████████████████████████████| 51kB 1.7MB/s \n",
            "\u001b[?25hRequirement already satisfied: wcwidth in /usr/local/lib/python3.6/dist-packages (from ftfy<5.6) (0.2.5)\n",
            "Installing collected packages: ftfy\n",
            "Successfully installed ftfy-5.5.1\n"
          ],
          "name": "stdout"
        }
      ]
    },
    {
      "cell_type": "code",
      "metadata": {
        "id": "AFSD4ndGOTp5",
        "colab_type": "code",
        "colab": {}
      },
      "source": [
        "def weird(val):\n",
        "    if isinstance(val, float): \n",
        "        return 0\n",
        "    return bad.sequence_weirdness(val)"
      ],
      "execution_count": 38,
      "outputs": []
    },
    {
      "cell_type": "code",
      "metadata": {
        "id": "hgZTwzmE5NK_",
        "colab_type": "code",
        "colab": {
          "base_uri": "https://localhost:8080/",
          "height": 34
        },
        "outputId": "b0d03c90-4218-40b3-a292-1ea7231194a2"
      },
      "source": [
        "# Primero, calculamos la cantidad de nombres raros en el dataset cargado originalmente\n",
        "kickstarter_2018['name_weirdness'] = kickstarter_2018['name'].apply(weird)\n",
        "print('Se encontraron', len(kickstarter_2018[kickstarter_2018['name_weirdness'] > 1]), 'nombres raros.')"
      ],
      "execution_count": 39,
      "outputs": [
        {
          "output_type": "stream",
          "text": [
            "Se encontraron 26 nombres raros.\n"
          ],
          "name": "stdout"
        }
      ]
    },
    {
      "cell_type": "code",
      "metadata": {
        "id": "jWuIRgD0OTp0",
        "colab_type": "code",
        "colab": {
          "base_uri": "https://localhost:8080/",
          "height": 469
        },
        "outputId": "fec25008-4bb5-498d-a1bc-f3852d0ba5fd"
      },
      "source": [
        "# Ahora, calcularemos la cantidad de nombres raros en el dataset, pero cargándolo con eoncoding ISO-8859-1\n",
        "\n",
        "# read in the file with the encoding detected by chardet\n",
        "kickstarter_2018_1 = pandas.read_csv(BASE_DIR + \"/input/kickstarter-projects/ks-projects-201801.csv\", encoding='iso-8859-1')\n",
        "\n",
        "# look at the first few lines\n",
        "kickstarter_2018_1.head()"
      ],
      "execution_count": 40,
      "outputs": [
        {
          "output_type": "execute_result",
          "data": {
            "text/html": [
              "<div>\n",
              "<style scoped>\n",
              "    .dataframe tbody tr th:only-of-type {\n",
              "        vertical-align: middle;\n",
              "    }\n",
              "\n",
              "    .dataframe tbody tr th {\n",
              "        vertical-align: top;\n",
              "    }\n",
              "\n",
              "    .dataframe thead th {\n",
              "        text-align: right;\n",
              "    }\n",
              "</style>\n",
              "<table border=\"1\" class=\"dataframe\">\n",
              "  <thead>\n",
              "    <tr style=\"text-align: right;\">\n",
              "      <th></th>\n",
              "      <th>ID</th>\n",
              "      <th>name</th>\n",
              "      <th>category</th>\n",
              "      <th>main_category</th>\n",
              "      <th>currency</th>\n",
              "      <th>deadline</th>\n",
              "      <th>goal</th>\n",
              "      <th>launched</th>\n",
              "      <th>pledged</th>\n",
              "      <th>state</th>\n",
              "      <th>backers</th>\n",
              "      <th>country</th>\n",
              "      <th>usd pledged</th>\n",
              "      <th>usd_pledged_real</th>\n",
              "      <th>usd_goal_real</th>\n",
              "    </tr>\n",
              "  </thead>\n",
              "  <tbody>\n",
              "    <tr>\n",
              "      <th>0</th>\n",
              "      <td>1000002330</td>\n",
              "      <td>The Songs of Adelaide &amp; Abullah</td>\n",
              "      <td>Poetry</td>\n",
              "      <td>Publishing</td>\n",
              "      <td>GBP</td>\n",
              "      <td>2015-10-09</td>\n",
              "      <td>1000.00</td>\n",
              "      <td>2015-08-11 12:12:28</td>\n",
              "      <td>0.00</td>\n",
              "      <td>failed</td>\n",
              "      <td>0</td>\n",
              "      <td>GB</td>\n",
              "      <td>0.00</td>\n",
              "      <td>0.00</td>\n",
              "      <td>1533.95</td>\n",
              "    </tr>\n",
              "    <tr>\n",
              "      <th>1</th>\n",
              "      <td>1000003930</td>\n",
              "      <td>Greeting From Earth: ZGAC Arts Capsule For ET</td>\n",
              "      <td>Narrative Film</td>\n",
              "      <td>Film &amp; Video</td>\n",
              "      <td>USD</td>\n",
              "      <td>2017-11-01</td>\n",
              "      <td>30000.00</td>\n",
              "      <td>2017-09-02 04:43:57</td>\n",
              "      <td>2421.00</td>\n",
              "      <td>failed</td>\n",
              "      <td>15</td>\n",
              "      <td>US</td>\n",
              "      <td>100.00</td>\n",
              "      <td>2421.00</td>\n",
              "      <td>30000.00</td>\n",
              "    </tr>\n",
              "    <tr>\n",
              "      <th>2</th>\n",
              "      <td>1000004038</td>\n",
              "      <td>Where is Hank?</td>\n",
              "      <td>Narrative Film</td>\n",
              "      <td>Film &amp; Video</td>\n",
              "      <td>USD</td>\n",
              "      <td>2013-02-26</td>\n",
              "      <td>45000.00</td>\n",
              "      <td>2013-01-12 00:20:50</td>\n",
              "      <td>220.00</td>\n",
              "      <td>failed</td>\n",
              "      <td>3</td>\n",
              "      <td>US</td>\n",
              "      <td>220.00</td>\n",
              "      <td>220.00</td>\n",
              "      <td>45000.00</td>\n",
              "    </tr>\n",
              "    <tr>\n",
              "      <th>3</th>\n",
              "      <td>1000007540</td>\n",
              "      <td>ToshiCapital Rekordz Needs Help to Complete Album</td>\n",
              "      <td>Music</td>\n",
              "      <td>Music</td>\n",
              "      <td>USD</td>\n",
              "      <td>2012-04-16</td>\n",
              "      <td>5000.00</td>\n",
              "      <td>2012-03-17 03:24:11</td>\n",
              "      <td>1.00</td>\n",
              "      <td>failed</td>\n",
              "      <td>1</td>\n",
              "      <td>US</td>\n",
              "      <td>1.00</td>\n",
              "      <td>1.00</td>\n",
              "      <td>5000.00</td>\n",
              "    </tr>\n",
              "    <tr>\n",
              "      <th>4</th>\n",
              "      <td>1000011046</td>\n",
              "      <td>Community Film Project: The Art of Neighborhoo...</td>\n",
              "      <td>Film &amp; Video</td>\n",
              "      <td>Film &amp; Video</td>\n",
              "      <td>USD</td>\n",
              "      <td>2015-08-29</td>\n",
              "      <td>19500.00</td>\n",
              "      <td>2015-07-04 08:35:03</td>\n",
              "      <td>1283.00</td>\n",
              "      <td>canceled</td>\n",
              "      <td>14</td>\n",
              "      <td>US</td>\n",
              "      <td>1283.00</td>\n",
              "      <td>1283.00</td>\n",
              "      <td>19500.00</td>\n",
              "    </tr>\n",
              "  </tbody>\n",
              "</table>\n",
              "</div>"
            ],
            "text/plain": [
              "           ID  ... usd_goal_real\n",
              "0  1000002330  ...       1533.95\n",
              "1  1000003930  ...      30000.00\n",
              "2  1000004038  ...      45000.00\n",
              "3  1000007540  ...       5000.00\n",
              "4  1000011046  ...      19500.00\n",
              "\n",
              "[5 rows x 15 columns]"
            ]
          },
          "metadata": {
            "tags": []
          },
          "execution_count": 40
        }
      ]
    },
    {
      "cell_type": "code",
      "metadata": {
        "id": "flBAGV3ROTp8",
        "colab_type": "code",
        "colab": {
          "base_uri": "https://localhost:8080/",
          "height": 34
        },
        "outputId": "85c81843-0391-45a1-d7d1-14ca527dd05d"
      },
      "source": [
        "kickstarter_2018_1['name_weirdness'] = kickstarter_2018_1['name'].apply(weird)\n",
        "print('Se encontraron', len(kickstarter_2018_1[kickstarter_2018_1['name_weirdness'] > 1]), 'nombres raros.')"
      ],
      "execution_count": 41,
      "outputs": [
        {
          "output_type": "stream",
          "text": [
            "Se encontraron 7682 nombres raros.\n"
          ],
          "name": "stdout"
        }
      ]
    },
    {
      "cell_type": "markdown",
      "metadata": {
        "id": "lshuqzNLo8Wj",
        "colab_type": "text"
      },
      "source": [
        "## 2.2 Tratar valores faltantes\n",
        "\n",
        "Ejemplo, cuantos de los proyectos suspendidos no tienen nombre"
      ]
    },
    {
      "cell_type": "code",
      "metadata": {
        "id": "6YUQdcbDpMon",
        "colab_type": "code",
        "colab": {
          "base_uri": "https://localhost:8080/",
          "height": 34
        },
        "outputId": "947e1cc0-1ac2-462f-8271-8f83bdcce69a"
      },
      "source": [
        "len(kickstarter_2018[kickstarter_2018.state == 'suspended'].dropna(subset=['name'])) / \\\n",
        "    len(kickstarter_2018[kickstarter_2018.state == 'suspended'])"
      ],
      "execution_count": 42,
      "outputs": [
        {
          "output_type": "execute_result",
          "data": {
            "text/plain": [
              "0.9994582881906826"
            ]
          },
          "metadata": {
            "tags": []
          },
          "execution_count": 42
        }
      ]
    },
    {
      "cell_type": "markdown",
      "metadata": {
        "id": "EhkJGQiLpSQw",
        "colab_type": "text"
      },
      "source": [
        "En este caso, creemos que es seguro descartar los proyectos sin nombre"
      ]
    },
    {
      "cell_type": "code",
      "metadata": {
        "id": "0nJPjPKnpVB6",
        "colab_type": "code",
        "colab": {}
      },
      "source": [
        "kickstarter_2018 = kickstarter_2018.dropna(subset=['name'])"
      ],
      "execution_count": 43,
      "outputs": []
    },
    {
      "cell_type": "markdown",
      "metadata": {
        "id": "hWgKz3Llp0fr",
        "colab_type": "text"
      },
      "source": [
        "Cuantos proyectos tienen campos con valores nulos"
      ]
    },
    {
      "cell_type": "code",
      "metadata": {
        "id": "OSFP597VqOAU",
        "colab_type": "code",
        "colab": {
          "base_uri": "https://localhost:8080/",
          "height": 52
        },
        "outputId": "89bed5b2-1921-4bde-d66c-628bee5c118d"
      },
      "source": [
        "missing_values_count = kickstarter_2018.isnull().sum()\n",
        "missing_values_count[missing_values_count > 0]"
      ],
      "execution_count": 44,
      "outputs": [
        {
          "output_type": "execute_result",
          "data": {
            "text/plain": [
              "usd_pledged    3797\n",
              "dtype: int64"
            ]
          },
          "metadata": {
            "tags": []
          },
          "execution_count": 44
        }
      ]
    },
    {
      "cell_type": "code",
      "metadata": {
        "id": "ZB5cG41_pxYa",
        "colab_type": "code",
        "colab": {
          "base_uri": "https://localhost:8080/",
          "height": 547
        },
        "outputId": "c2d89d66-ec19-4a45-bd87-8c2b7473676c"
      },
      "source": [
        "kickstarter_2018[kickstarter_2018.usd_pledged.isnull()].describe(include='all')"
      ],
      "execution_count": 45,
      "outputs": [
        {
          "output_type": "execute_result",
          "data": {
            "text/html": [
              "<div>\n",
              "<style scoped>\n",
              "    .dataframe tbody tr th:only-of-type {\n",
              "        vertical-align: middle;\n",
              "    }\n",
              "\n",
              "    .dataframe tbody tr th {\n",
              "        vertical-align: top;\n",
              "    }\n",
              "\n",
              "    .dataframe thead th {\n",
              "        text-align: right;\n",
              "    }\n",
              "</style>\n",
              "<table border=\"1\" class=\"dataframe\">\n",
              "  <thead>\n",
              "    <tr style=\"text-align: right;\">\n",
              "      <th></th>\n",
              "      <th>name</th>\n",
              "      <th>category</th>\n",
              "      <th>main_category</th>\n",
              "      <th>currency</th>\n",
              "      <th>deadline</th>\n",
              "      <th>goal</th>\n",
              "      <th>launched</th>\n",
              "      <th>pledged</th>\n",
              "      <th>state</th>\n",
              "      <th>backers</th>\n",
              "      <th>country</th>\n",
              "      <th>usd_pledged</th>\n",
              "      <th>usd_pledged_real</th>\n",
              "      <th>usd_goal_real</th>\n",
              "      <th>name_hash</th>\n",
              "      <th>name_weirdness</th>\n",
              "    </tr>\n",
              "  </thead>\n",
              "  <tbody>\n",
              "    <tr>\n",
              "      <th>count</th>\n",
              "      <td>3797</td>\n",
              "      <td>3797</td>\n",
              "      <td>3797</td>\n",
              "      <td>3797</td>\n",
              "      <td>3797</td>\n",
              "      <td>3797.00</td>\n",
              "      <td>3797</td>\n",
              "      <td>3797.00</td>\n",
              "      <td>3797</td>\n",
              "      <td>3797.00</td>\n",
              "      <td>3797</td>\n",
              "      <td>0.00</td>\n",
              "      <td>3797.00</td>\n",
              "      <td>3797.00</td>\n",
              "      <td>3797</td>\n",
              "      <td>3797.00</td>\n",
              "    </tr>\n",
              "    <tr>\n",
              "      <th>unique</th>\n",
              "      <td>3764</td>\n",
              "      <td>28</td>\n",
              "      <td>12</td>\n",
              "      <td>10</td>\n",
              "      <td>722</td>\n",
              "      <td>nan</td>\n",
              "      <td>3797</td>\n",
              "      <td>nan</td>\n",
              "      <td>6</td>\n",
              "      <td>nan</td>\n",
              "      <td>1</td>\n",
              "      <td>nan</td>\n",
              "      <td>nan</td>\n",
              "      <td>nan</td>\n",
              "      <td>3764</td>\n",
              "      <td>nan</td>\n",
              "    </tr>\n",
              "    <tr>\n",
              "      <th>top</th>\n",
              "      <td>New EP/Music Development</td>\n",
              "      <td>Music</td>\n",
              "      <td>Music</td>\n",
              "      <td>USD</td>\n",
              "      <td>2015-05-01 00:00:00</td>\n",
              "      <td>nan</td>\n",
              "      <td>2015-10-27 17:00:11</td>\n",
              "      <td>nan</td>\n",
              "      <td>undefined</td>\n",
              "      <td>nan</td>\n",
              "      <td>N,0\"</td>\n",
              "      <td>nan</td>\n",
              "      <td>nan</td>\n",
              "      <td>nan</td>\n",
              "      <td>2cdff1887ad0f0d341ca3f08841de3a0</td>\n",
              "      <td>nan</td>\n",
              "    </tr>\n",
              "    <tr>\n",
              "      <th>freq</th>\n",
              "      <td>28</td>\n",
              "      <td>2387</td>\n",
              "      <td>2388</td>\n",
              "      <td>2738</td>\n",
              "      <td>26</td>\n",
              "      <td>nan</td>\n",
              "      <td>1</td>\n",
              "      <td>nan</td>\n",
              "      <td>3562</td>\n",
              "      <td>nan</td>\n",
              "      <td>3797</td>\n",
              "      <td>nan</td>\n",
              "      <td>nan</td>\n",
              "      <td>nan</td>\n",
              "      <td>28</td>\n",
              "      <td>nan</td>\n",
              "    </tr>\n",
              "    <tr>\n",
              "      <th>first</th>\n",
              "      <td>NaN</td>\n",
              "      <td>NaN</td>\n",
              "      <td>NaN</td>\n",
              "      <td>NaN</td>\n",
              "      <td>2012-04-24 00:00:00</td>\n",
              "      <td>nan</td>\n",
              "      <td>2012-03-14 19:05:44</td>\n",
              "      <td>nan</td>\n",
              "      <td>NaN</td>\n",
              "      <td>nan</td>\n",
              "      <td>NaN</td>\n",
              "      <td>nan</td>\n",
              "      <td>nan</td>\n",
              "      <td>nan</td>\n",
              "      <td>NaN</td>\n",
              "      <td>nan</td>\n",
              "    </tr>\n",
              "    <tr>\n",
              "      <th>last</th>\n",
              "      <td>NaN</td>\n",
              "      <td>NaN</td>\n",
              "      <td>NaN</td>\n",
              "      <td>NaN</td>\n",
              "      <td>2016-07-07 00:00:00</td>\n",
              "      <td>nan</td>\n",
              "      <td>2016-05-21 20:45:12</td>\n",
              "      <td>nan</td>\n",
              "      <td>NaN</td>\n",
              "      <td>nan</td>\n",
              "      <td>NaN</td>\n",
              "      <td>nan</td>\n",
              "      <td>nan</td>\n",
              "      <td>nan</td>\n",
              "      <td>NaN</td>\n",
              "      <td>nan</td>\n",
              "    </tr>\n",
              "    <tr>\n",
              "      <th>mean</th>\n",
              "      <td>NaN</td>\n",
              "      <td>NaN</td>\n",
              "      <td>NaN</td>\n",
              "      <td>NaN</td>\n",
              "      <td>NaN</td>\n",
              "      <td>5413.35</td>\n",
              "      <td>NaN</td>\n",
              "      <td>3023.26</td>\n",
              "      <td>NaN</td>\n",
              "      <td>0.00</td>\n",
              "      <td>NaN</td>\n",
              "      <td>nan</td>\n",
              "      <td>2949.85</td>\n",
              "      <td>5097.31</td>\n",
              "      <td>NaN</td>\n",
              "      <td>-0.01</td>\n",
              "    </tr>\n",
              "    <tr>\n",
              "      <th>std</th>\n",
              "      <td>NaN</td>\n",
              "      <td>NaN</td>\n",
              "      <td>NaN</td>\n",
              "      <td>NaN</td>\n",
              "      <td>NaN</td>\n",
              "      <td>37466.24</td>\n",
              "      <td>NaN</td>\n",
              "      <td>44919.41</td>\n",
              "      <td>NaN</td>\n",
              "      <td>0.00</td>\n",
              "      <td>NaN</td>\n",
              "      <td>nan</td>\n",
              "      <td>44881.72</td>\n",
              "      <td>37258.79</td>\n",
              "      <td>NaN</td>\n",
              "      <td>0.12</td>\n",
              "    </tr>\n",
              "    <tr>\n",
              "      <th>min</th>\n",
              "      <td>NaN</td>\n",
              "      <td>NaN</td>\n",
              "      <td>NaN</td>\n",
              "      <td>NaN</td>\n",
              "      <td>NaN</td>\n",
              "      <td>108.00</td>\n",
              "      <td>NaN</td>\n",
              "      <td>0.00</td>\n",
              "      <td>NaN</td>\n",
              "      <td>0.00</td>\n",
              "      <td>NaN</td>\n",
              "      <td>nan</td>\n",
              "      <td>0.00</td>\n",
              "      <td>85.28</td>\n",
              "      <td>NaN</td>\n",
              "      <td>-3.00</td>\n",
              "    </tr>\n",
              "    <tr>\n",
              "      <th>25%</th>\n",
              "      <td>NaN</td>\n",
              "      <td>NaN</td>\n",
              "      <td>NaN</td>\n",
              "      <td>NaN</td>\n",
              "      <td>NaN</td>\n",
              "      <td>2000.00</td>\n",
              "      <td>NaN</td>\n",
              "      <td>5.00</td>\n",
              "      <td>NaN</td>\n",
              "      <td>0.00</td>\n",
              "      <td>NaN</td>\n",
              "      <td>nan</td>\n",
              "      <td>5.00</td>\n",
              "      <td>2250.00</td>\n",
              "      <td>NaN</td>\n",
              "      <td>0.00</td>\n",
              "    </tr>\n",
              "    <tr>\n",
              "      <th>50%</th>\n",
              "      <td>NaN</td>\n",
              "      <td>NaN</td>\n",
              "      <td>NaN</td>\n",
              "      <td>NaN</td>\n",
              "      <td>NaN</td>\n",
              "      <td>3500.00</td>\n",
              "      <td>NaN</td>\n",
              "      <td>640.00</td>\n",
              "      <td>NaN</td>\n",
              "      <td>0.00</td>\n",
              "      <td>NaN</td>\n",
              "      <td>nan</td>\n",
              "      <td>616.00</td>\n",
              "      <td>3583.05</td>\n",
              "      <td>NaN</td>\n",
              "      <td>0.00</td>\n",
              "    </tr>\n",
              "    <tr>\n",
              "      <th>75%</th>\n",
              "      <td>NaN</td>\n",
              "      <td>NaN</td>\n",
              "      <td>NaN</td>\n",
              "      <td>NaN</td>\n",
              "      <td>NaN</td>\n",
              "      <td>5000.00</td>\n",
              "      <td>NaN</td>\n",
              "      <td>3845.00</td>\n",
              "      <td>NaN</td>\n",
              "      <td>0.00</td>\n",
              "      <td>NaN</td>\n",
              "      <td>nan</td>\n",
              "      <td>3932.23</td>\n",
              "      <td>5208.09</td>\n",
              "      <td>NaN</td>\n",
              "      <td>0.00</td>\n",
              "    </tr>\n",
              "    <tr>\n",
              "      <th>max</th>\n",
              "      <td>NaN</td>\n",
              "      <td>NaN</td>\n",
              "      <td>NaN</td>\n",
              "      <td>NaN</td>\n",
              "      <td>NaN</td>\n",
              "      <td>1877000.00</td>\n",
              "      <td>NaN</td>\n",
              "      <td>2762571.78</td>\n",
              "      <td>NaN</td>\n",
              "      <td>0.00</td>\n",
              "      <td>NaN</td>\n",
              "      <td>nan</td>\n",
              "      <td>2762571.78</td>\n",
              "      <td>1877000.00</td>\n",
              "      <td>NaN</td>\n",
              "      <td>0.00</td>\n",
              "    </tr>\n",
              "  </tbody>\n",
              "</table>\n",
              "</div>"
            ],
            "text/plain": [
              "                            name  ... name_weirdness\n",
              "count                       3797  ...        3797.00\n",
              "unique                      3764  ...            nan\n",
              "top     New EP/Music Development  ...            nan\n",
              "freq                          28  ...            nan\n",
              "first                        NaN  ...            nan\n",
              "last                         NaN  ...            nan\n",
              "mean                         NaN  ...          -0.01\n",
              "std                          NaN  ...           0.12\n",
              "min                          NaN  ...          -3.00\n",
              "25%                          NaN  ...           0.00\n",
              "50%                          NaN  ...           0.00\n",
              "75%                          NaN  ...           0.00\n",
              "max                          NaN  ...           0.00\n",
              "\n",
              "[13 rows x 16 columns]"
            ]
          },
          "metadata": {
            "tags": []
          },
          "execution_count": 45
        }
      ]
    },
    {
      "cell_type": "markdown",
      "metadata": {
        "id": "jQgqofcxqsB7",
        "colab_type": "text"
      },
      "source": [
        "A priori como los proyectos no tienen patrocinantes, completamos en 0 los valores"
      ]
    },
    {
      "cell_type": "code",
      "metadata": {
        "id": "2YfU-CL3qw-s",
        "colab_type": "code",
        "colab": {}
      },
      "source": [
        "kickstarter_2018 = kickstarter_2018.fillna(0)"
      ],
      "execution_count": 46,
      "outputs": []
    },
    {
      "cell_type": "markdown",
      "metadata": {
        "id": "yi7Up0GQhHOD",
        "colab_type": "text"
      },
      "source": [
        "## 2.3 Codificar variables\n",
        "\n",
        "Para trabajar con los algoritmos de aprendizaje automático, las variables categóricas estas deben ser codificadas como variables numéricas, no como cadenas.\n",
        "\n",
        "Para esta tarea también hay diferentes estrategias, dos comunes son: asociar cadena a número y asociar cadena a columna."
      ]
    },
    {
      "cell_type": "code",
      "metadata": {
        "id": "XvSECbfoUp4N",
        "colab_type": "code",
        "colab": {}
      },
      "source": [
        "from sklearn import preprocessing"
      ],
      "execution_count": 47,
      "outputs": []
    },
    {
      "cell_type": "code",
      "metadata": {
        "id": "vLaMz6SUUzen",
        "colab_type": "code",
        "colab": {
          "base_uri": "https://localhost:8080/",
          "height": 34
        },
        "outputId": "d1e16877-f60c-42c1-f92f-1e2a92495dd5"
      },
      "source": [
        "column='main_category'\n",
        "# Create a label (category) encoder object\n",
        "le = preprocessing.LabelEncoder()\n",
        "# Fit the encoder to the pandas column\n",
        "le.fit(kickstarter_2018[column])"
      ],
      "execution_count": 48,
      "outputs": [
        {
          "output_type": "execute_result",
          "data": {
            "text/plain": [
              "LabelEncoder()"
            ]
          },
          "metadata": {
            "tags": []
          },
          "execution_count": 48
        }
      ]
    },
    {
      "cell_type": "code",
      "metadata": {
        "id": "q-bWQhWJghQd",
        "colab_type": "code",
        "colab": {
          "base_uri": "https://localhost:8080/",
          "height": 278
        },
        "outputId": "4d61bd71-d3bb-4900-eed3-f28ff305b661"
      },
      "source": [
        "# View encoder mapping\n",
        "dict(zip(le.classes_,le.transform(le.classes_)))"
      ],
      "execution_count": 49,
      "outputs": [
        {
          "output_type": "execute_result",
          "data": {
            "text/plain": [
              "{'Art': 0,\n",
              " 'Comics': 1,\n",
              " 'Crafts': 2,\n",
              " 'Dance': 3,\n",
              " 'Design': 4,\n",
              " 'Fashion': 5,\n",
              " 'Film & Video': 6,\n",
              " 'Food': 7,\n",
              " 'Games': 8,\n",
              " 'Journalism': 9,\n",
              " 'Music': 10,\n",
              " 'Photography': 11,\n",
              " 'Publishing': 12,\n",
              " 'Technology': 13,\n",
              " 'Theater': 14}"
            ]
          },
          "metadata": {
            "tags": []
          },
          "execution_count": 49
        }
      ]
    },
    {
      "cell_type": "code",
      "metadata": {
        "id": "ewipeEtfgPH3",
        "colab_type": "code",
        "colab": {
          "base_uri": "https://localhost:8080/",
          "height": 483
        },
        "outputId": "6c01fd17-3320-4a02-88e5-323fb483605d"
      },
      "source": [
        "# Apply the fitted encoder to the pandas column\n",
        "kickstarter_2018[column] = le.transform(kickstarter_2018[column]) \n",
        "kickstarter_2018.head()"
      ],
      "execution_count": 50,
      "outputs": [
        {
          "output_type": "execute_result",
          "data": {
            "text/html": [
              "<div>\n",
              "<style scoped>\n",
              "    .dataframe tbody tr th:only-of-type {\n",
              "        vertical-align: middle;\n",
              "    }\n",
              "\n",
              "    .dataframe tbody tr th {\n",
              "        vertical-align: top;\n",
              "    }\n",
              "\n",
              "    .dataframe thead th {\n",
              "        text-align: right;\n",
              "    }\n",
              "</style>\n",
              "<table border=\"1\" class=\"dataframe\">\n",
              "  <thead>\n",
              "    <tr style=\"text-align: right;\">\n",
              "      <th></th>\n",
              "      <th>name</th>\n",
              "      <th>category</th>\n",
              "      <th>main_category</th>\n",
              "      <th>currency</th>\n",
              "      <th>deadline</th>\n",
              "      <th>goal</th>\n",
              "      <th>launched</th>\n",
              "      <th>pledged</th>\n",
              "      <th>state</th>\n",
              "      <th>backers</th>\n",
              "      <th>country</th>\n",
              "      <th>usd_pledged</th>\n",
              "      <th>usd_pledged_real</th>\n",
              "      <th>usd_goal_real</th>\n",
              "      <th>name_hash</th>\n",
              "      <th>name_weirdness</th>\n",
              "    </tr>\n",
              "    <tr>\n",
              "      <th>ID</th>\n",
              "      <th></th>\n",
              "      <th></th>\n",
              "      <th></th>\n",
              "      <th></th>\n",
              "      <th></th>\n",
              "      <th></th>\n",
              "      <th></th>\n",
              "      <th></th>\n",
              "      <th></th>\n",
              "      <th></th>\n",
              "      <th></th>\n",
              "      <th></th>\n",
              "      <th></th>\n",
              "      <th></th>\n",
              "      <th></th>\n",
              "      <th></th>\n",
              "    </tr>\n",
              "  </thead>\n",
              "  <tbody>\n",
              "    <tr>\n",
              "      <th>1000002330</th>\n",
              "      <td>The Songs of Adelaide &amp; Abullah</td>\n",
              "      <td>Poetry</td>\n",
              "      <td>12</td>\n",
              "      <td>GBP</td>\n",
              "      <td>2015-10-09</td>\n",
              "      <td>1000.00</td>\n",
              "      <td>2015-08-11 12:12:28</td>\n",
              "      <td>0.00</td>\n",
              "      <td>failed</td>\n",
              "      <td>0</td>\n",
              "      <td>GB</td>\n",
              "      <td>0.00</td>\n",
              "      <td>0.00</td>\n",
              "      <td>1533.95</td>\n",
              "      <td>a6828ae8a2eca25f0dd7035efc0af0a0</td>\n",
              "      <td>0</td>\n",
              "    </tr>\n",
              "    <tr>\n",
              "      <th>1000003930</th>\n",
              "      <td>Greeting From Earth: ZGAC Arts Capsule For ET</td>\n",
              "      <td>Narrative Film</td>\n",
              "      <td>6</td>\n",
              "      <td>USD</td>\n",
              "      <td>2017-11-01</td>\n",
              "      <td>30000.00</td>\n",
              "      <td>2017-09-02 04:43:57</td>\n",
              "      <td>2421.00</td>\n",
              "      <td>failed</td>\n",
              "      <td>15</td>\n",
              "      <td>US</td>\n",
              "      <td>100.00</td>\n",
              "      <td>2421.00</td>\n",
              "      <td>30000.00</td>\n",
              "      <td>81609b3bdc0b96f429672d69702f2524</td>\n",
              "      <td>0</td>\n",
              "    </tr>\n",
              "    <tr>\n",
              "      <th>1000004038</th>\n",
              "      <td>Where is Hank?</td>\n",
              "      <td>Narrative Film</td>\n",
              "      <td>6</td>\n",
              "      <td>USD</td>\n",
              "      <td>2013-02-26</td>\n",
              "      <td>45000.00</td>\n",
              "      <td>2013-01-12 00:20:50</td>\n",
              "      <td>220.00</td>\n",
              "      <td>failed</td>\n",
              "      <td>3</td>\n",
              "      <td>US</td>\n",
              "      <td>220.00</td>\n",
              "      <td>220.00</td>\n",
              "      <td>45000.00</td>\n",
              "      <td>c12f5c3bace2f0213cdb2679a265dca0</td>\n",
              "      <td>0</td>\n",
              "    </tr>\n",
              "    <tr>\n",
              "      <th>1000007540</th>\n",
              "      <td>ToshiCapital Rekordz Needs Help to Complete Album</td>\n",
              "      <td>Music</td>\n",
              "      <td>10</td>\n",
              "      <td>USD</td>\n",
              "      <td>2012-04-16</td>\n",
              "      <td>5000.00</td>\n",
              "      <td>2012-03-17 03:24:11</td>\n",
              "      <td>1.00</td>\n",
              "      <td>failed</td>\n",
              "      <td>1</td>\n",
              "      <td>US</td>\n",
              "      <td>1.00</td>\n",
              "      <td>1.00</td>\n",
              "      <td>5000.00</td>\n",
              "      <td>4dbdcf09c86bbf5683ec39bc57b77f81</td>\n",
              "      <td>0</td>\n",
              "    </tr>\n",
              "    <tr>\n",
              "      <th>1000011046</th>\n",
              "      <td>Community Film Project: The Art of Neighborhoo...</td>\n",
              "      <td>Film &amp; Video</td>\n",
              "      <td>6</td>\n",
              "      <td>USD</td>\n",
              "      <td>2015-08-29</td>\n",
              "      <td>19500.00</td>\n",
              "      <td>2015-07-04 08:35:03</td>\n",
              "      <td>1283.00</td>\n",
              "      <td>canceled</td>\n",
              "      <td>14</td>\n",
              "      <td>US</td>\n",
              "      <td>1283.00</td>\n",
              "      <td>1283.00</td>\n",
              "      <td>19500.00</td>\n",
              "      <td>9c01404a2ef702811c2088ce139042ad</td>\n",
              "      <td>0</td>\n",
              "    </tr>\n",
              "  </tbody>\n",
              "</table>\n",
              "</div>"
            ],
            "text/plain": [
              "                                                         name  ... name_weirdness\n",
              "ID                                                             ...               \n",
              "1000002330                    The Songs of Adelaide & Abullah  ...              0\n",
              "1000003930      Greeting From Earth: ZGAC Arts Capsule For ET  ...              0\n",
              "1000004038                                     Where is Hank?  ...              0\n",
              "1000007540  ToshiCapital Rekordz Needs Help to Complete Album  ...              0\n",
              "1000011046  Community Film Project: The Art of Neighborhoo...  ...              0\n",
              "\n",
              "[5 rows x 16 columns]"
            ]
          },
          "metadata": {
            "tags": []
          },
          "execution_count": 50
        }
      ]
    },
    {
      "cell_type": "markdown",
      "metadata": {
        "id": "JVDtZWJyTny-",
        "colab_type": "text"
      },
      "source": [
        "#### Ejercicio 4\n",
        "Codificar currency con ambas estrategias"
      ]
    },
    {
      "cell_type": "code",
      "metadata": {
        "id": "pco5h6tbTFO-",
        "colab_type": "code",
        "colab": {
          "base_uri": "https://localhost:8080/",
          "height": 34
        },
        "outputId": "8e7460c5-ea62-418c-c00e-c726ba8c783a"
      },
      "source": [
        "column='currency'\n",
        "# Create a label (category) encoder object\n",
        "le = preprocessing.LabelEncoder()\n",
        "# Fit the encoder to the pandas column\n",
        "le.fit(kickstarter_2018[column])"
      ],
      "execution_count": 51,
      "outputs": [
        {
          "output_type": "execute_result",
          "data": {
            "text/plain": [
              "LabelEncoder()"
            ]
          },
          "metadata": {
            "tags": []
          },
          "execution_count": 51
        }
      ]
    },
    {
      "cell_type": "code",
      "metadata": {
        "id": "7GMEBbtOzqol",
        "colab_type": "code",
        "colab": {
          "base_uri": "https://localhost:8080/",
          "height": 260
        },
        "outputId": "19cb34cf-47da-4f41-f6cb-df94d48b802d"
      },
      "source": [
        "# View encoder mapping\n",
        "dict(zip(le.classes_,le.transform(le.classes_)))"
      ],
      "execution_count": 52,
      "outputs": [
        {
          "output_type": "execute_result",
          "data": {
            "text/plain": [
              "{'AUD': 0,\n",
              " 'CAD': 1,\n",
              " 'CHF': 2,\n",
              " 'DKK': 3,\n",
              " 'EUR': 4,\n",
              " 'GBP': 5,\n",
              " 'HKD': 6,\n",
              " 'JPY': 7,\n",
              " 'MXN': 8,\n",
              " 'NOK': 9,\n",
              " 'NZD': 10,\n",
              " 'SEK': 11,\n",
              " 'SGD': 12,\n",
              " 'USD': 13}"
            ]
          },
          "metadata": {
            "tags": []
          },
          "execution_count": 52
        }
      ]
    },
    {
      "cell_type": "code",
      "metadata": {
        "id": "IOYQGH82TtoJ",
        "colab_type": "code",
        "colab": {
          "base_uri": "https://localhost:8080/",
          "height": 483
        },
        "outputId": "90ca572e-5777-4036-a08b-eac3c48f0db4"
      },
      "source": [
        "# Apply the fitted encoder to the pandas column\n",
        "kickstarter_2018[column] = le.transform(kickstarter_2018[column]) \n",
        "kickstarter_2018.head()"
      ],
      "execution_count": 53,
      "outputs": [
        {
          "output_type": "execute_result",
          "data": {
            "text/html": [
              "<div>\n",
              "<style scoped>\n",
              "    .dataframe tbody tr th:only-of-type {\n",
              "        vertical-align: middle;\n",
              "    }\n",
              "\n",
              "    .dataframe tbody tr th {\n",
              "        vertical-align: top;\n",
              "    }\n",
              "\n",
              "    .dataframe thead th {\n",
              "        text-align: right;\n",
              "    }\n",
              "</style>\n",
              "<table border=\"1\" class=\"dataframe\">\n",
              "  <thead>\n",
              "    <tr style=\"text-align: right;\">\n",
              "      <th></th>\n",
              "      <th>name</th>\n",
              "      <th>category</th>\n",
              "      <th>main_category</th>\n",
              "      <th>currency</th>\n",
              "      <th>deadline</th>\n",
              "      <th>goal</th>\n",
              "      <th>launched</th>\n",
              "      <th>pledged</th>\n",
              "      <th>state</th>\n",
              "      <th>backers</th>\n",
              "      <th>country</th>\n",
              "      <th>usd_pledged</th>\n",
              "      <th>usd_pledged_real</th>\n",
              "      <th>usd_goal_real</th>\n",
              "      <th>name_hash</th>\n",
              "      <th>name_weirdness</th>\n",
              "    </tr>\n",
              "    <tr>\n",
              "      <th>ID</th>\n",
              "      <th></th>\n",
              "      <th></th>\n",
              "      <th></th>\n",
              "      <th></th>\n",
              "      <th></th>\n",
              "      <th></th>\n",
              "      <th></th>\n",
              "      <th></th>\n",
              "      <th></th>\n",
              "      <th></th>\n",
              "      <th></th>\n",
              "      <th></th>\n",
              "      <th></th>\n",
              "      <th></th>\n",
              "      <th></th>\n",
              "      <th></th>\n",
              "    </tr>\n",
              "  </thead>\n",
              "  <tbody>\n",
              "    <tr>\n",
              "      <th>1000002330</th>\n",
              "      <td>The Songs of Adelaide &amp; Abullah</td>\n",
              "      <td>Poetry</td>\n",
              "      <td>12</td>\n",
              "      <td>5</td>\n",
              "      <td>2015-10-09</td>\n",
              "      <td>1000.00</td>\n",
              "      <td>2015-08-11 12:12:28</td>\n",
              "      <td>0.00</td>\n",
              "      <td>failed</td>\n",
              "      <td>0</td>\n",
              "      <td>GB</td>\n",
              "      <td>0.00</td>\n",
              "      <td>0.00</td>\n",
              "      <td>1533.95</td>\n",
              "      <td>a6828ae8a2eca25f0dd7035efc0af0a0</td>\n",
              "      <td>0</td>\n",
              "    </tr>\n",
              "    <tr>\n",
              "      <th>1000003930</th>\n",
              "      <td>Greeting From Earth: ZGAC Arts Capsule For ET</td>\n",
              "      <td>Narrative Film</td>\n",
              "      <td>6</td>\n",
              "      <td>13</td>\n",
              "      <td>2017-11-01</td>\n",
              "      <td>30000.00</td>\n",
              "      <td>2017-09-02 04:43:57</td>\n",
              "      <td>2421.00</td>\n",
              "      <td>failed</td>\n",
              "      <td>15</td>\n",
              "      <td>US</td>\n",
              "      <td>100.00</td>\n",
              "      <td>2421.00</td>\n",
              "      <td>30000.00</td>\n",
              "      <td>81609b3bdc0b96f429672d69702f2524</td>\n",
              "      <td>0</td>\n",
              "    </tr>\n",
              "    <tr>\n",
              "      <th>1000004038</th>\n",
              "      <td>Where is Hank?</td>\n",
              "      <td>Narrative Film</td>\n",
              "      <td>6</td>\n",
              "      <td>13</td>\n",
              "      <td>2013-02-26</td>\n",
              "      <td>45000.00</td>\n",
              "      <td>2013-01-12 00:20:50</td>\n",
              "      <td>220.00</td>\n",
              "      <td>failed</td>\n",
              "      <td>3</td>\n",
              "      <td>US</td>\n",
              "      <td>220.00</td>\n",
              "      <td>220.00</td>\n",
              "      <td>45000.00</td>\n",
              "      <td>c12f5c3bace2f0213cdb2679a265dca0</td>\n",
              "      <td>0</td>\n",
              "    </tr>\n",
              "    <tr>\n",
              "      <th>1000007540</th>\n",
              "      <td>ToshiCapital Rekordz Needs Help to Complete Album</td>\n",
              "      <td>Music</td>\n",
              "      <td>10</td>\n",
              "      <td>13</td>\n",
              "      <td>2012-04-16</td>\n",
              "      <td>5000.00</td>\n",
              "      <td>2012-03-17 03:24:11</td>\n",
              "      <td>1.00</td>\n",
              "      <td>failed</td>\n",
              "      <td>1</td>\n",
              "      <td>US</td>\n",
              "      <td>1.00</td>\n",
              "      <td>1.00</td>\n",
              "      <td>5000.00</td>\n",
              "      <td>4dbdcf09c86bbf5683ec39bc57b77f81</td>\n",
              "      <td>0</td>\n",
              "    </tr>\n",
              "    <tr>\n",
              "      <th>1000011046</th>\n",
              "      <td>Community Film Project: The Art of Neighborhoo...</td>\n",
              "      <td>Film &amp; Video</td>\n",
              "      <td>6</td>\n",
              "      <td>13</td>\n",
              "      <td>2015-08-29</td>\n",
              "      <td>19500.00</td>\n",
              "      <td>2015-07-04 08:35:03</td>\n",
              "      <td>1283.00</td>\n",
              "      <td>canceled</td>\n",
              "      <td>14</td>\n",
              "      <td>US</td>\n",
              "      <td>1283.00</td>\n",
              "      <td>1283.00</td>\n",
              "      <td>19500.00</td>\n",
              "      <td>9c01404a2ef702811c2088ce139042ad</td>\n",
              "      <td>0</td>\n",
              "    </tr>\n",
              "  </tbody>\n",
              "</table>\n",
              "</div>"
            ],
            "text/plain": [
              "                                                         name  ... name_weirdness\n",
              "ID                                                             ...               \n",
              "1000002330                    The Songs of Adelaide & Abullah  ...              0\n",
              "1000003930      Greeting From Earth: ZGAC Arts Capsule For ET  ...              0\n",
              "1000004038                                     Where is Hank?  ...              0\n",
              "1000007540  ToshiCapital Rekordz Needs Help to Complete Album  ...              0\n",
              "1000011046  Community Film Project: The Art of Neighborhoo...  ...              0\n",
              "\n",
              "[5 rows x 16 columns]"
            ]
          },
          "metadata": {
            "tags": []
          },
          "execution_count": 53
        }
      ]
    },
    {
      "cell_type": "code",
      "metadata": {
        "id": "NZvUuMGTOTp_",
        "colab_type": "code",
        "colab": {
          "base_uri": "https://localhost:8080/",
          "height": 483
        },
        "outputId": "0042fab9-5dc8-4b45-c45e-462bf4b0a921"
      },
      "source": [
        "# Reversing encoding\n",
        "kickstarter_2018[column] = le.inverse_transform(kickstarter_2018[column]) \n",
        "kickstarter_2018.head()"
      ],
      "execution_count": 54,
      "outputs": [
        {
          "output_type": "execute_result",
          "data": {
            "text/html": [
              "<div>\n",
              "<style scoped>\n",
              "    .dataframe tbody tr th:only-of-type {\n",
              "        vertical-align: middle;\n",
              "    }\n",
              "\n",
              "    .dataframe tbody tr th {\n",
              "        vertical-align: top;\n",
              "    }\n",
              "\n",
              "    .dataframe thead th {\n",
              "        text-align: right;\n",
              "    }\n",
              "</style>\n",
              "<table border=\"1\" class=\"dataframe\">\n",
              "  <thead>\n",
              "    <tr style=\"text-align: right;\">\n",
              "      <th></th>\n",
              "      <th>name</th>\n",
              "      <th>category</th>\n",
              "      <th>main_category</th>\n",
              "      <th>currency</th>\n",
              "      <th>deadline</th>\n",
              "      <th>goal</th>\n",
              "      <th>launched</th>\n",
              "      <th>pledged</th>\n",
              "      <th>state</th>\n",
              "      <th>backers</th>\n",
              "      <th>country</th>\n",
              "      <th>usd_pledged</th>\n",
              "      <th>usd_pledged_real</th>\n",
              "      <th>usd_goal_real</th>\n",
              "      <th>name_hash</th>\n",
              "      <th>name_weirdness</th>\n",
              "    </tr>\n",
              "    <tr>\n",
              "      <th>ID</th>\n",
              "      <th></th>\n",
              "      <th></th>\n",
              "      <th></th>\n",
              "      <th></th>\n",
              "      <th></th>\n",
              "      <th></th>\n",
              "      <th></th>\n",
              "      <th></th>\n",
              "      <th></th>\n",
              "      <th></th>\n",
              "      <th></th>\n",
              "      <th></th>\n",
              "      <th></th>\n",
              "      <th></th>\n",
              "      <th></th>\n",
              "      <th></th>\n",
              "    </tr>\n",
              "  </thead>\n",
              "  <tbody>\n",
              "    <tr>\n",
              "      <th>1000002330</th>\n",
              "      <td>The Songs of Adelaide &amp; Abullah</td>\n",
              "      <td>Poetry</td>\n",
              "      <td>12</td>\n",
              "      <td>GBP</td>\n",
              "      <td>2015-10-09</td>\n",
              "      <td>1000.00</td>\n",
              "      <td>2015-08-11 12:12:28</td>\n",
              "      <td>0.00</td>\n",
              "      <td>failed</td>\n",
              "      <td>0</td>\n",
              "      <td>GB</td>\n",
              "      <td>0.00</td>\n",
              "      <td>0.00</td>\n",
              "      <td>1533.95</td>\n",
              "      <td>a6828ae8a2eca25f0dd7035efc0af0a0</td>\n",
              "      <td>0</td>\n",
              "    </tr>\n",
              "    <tr>\n",
              "      <th>1000003930</th>\n",
              "      <td>Greeting From Earth: ZGAC Arts Capsule For ET</td>\n",
              "      <td>Narrative Film</td>\n",
              "      <td>6</td>\n",
              "      <td>USD</td>\n",
              "      <td>2017-11-01</td>\n",
              "      <td>30000.00</td>\n",
              "      <td>2017-09-02 04:43:57</td>\n",
              "      <td>2421.00</td>\n",
              "      <td>failed</td>\n",
              "      <td>15</td>\n",
              "      <td>US</td>\n",
              "      <td>100.00</td>\n",
              "      <td>2421.00</td>\n",
              "      <td>30000.00</td>\n",
              "      <td>81609b3bdc0b96f429672d69702f2524</td>\n",
              "      <td>0</td>\n",
              "    </tr>\n",
              "    <tr>\n",
              "      <th>1000004038</th>\n",
              "      <td>Where is Hank?</td>\n",
              "      <td>Narrative Film</td>\n",
              "      <td>6</td>\n",
              "      <td>USD</td>\n",
              "      <td>2013-02-26</td>\n",
              "      <td>45000.00</td>\n",
              "      <td>2013-01-12 00:20:50</td>\n",
              "      <td>220.00</td>\n",
              "      <td>failed</td>\n",
              "      <td>3</td>\n",
              "      <td>US</td>\n",
              "      <td>220.00</td>\n",
              "      <td>220.00</td>\n",
              "      <td>45000.00</td>\n",
              "      <td>c12f5c3bace2f0213cdb2679a265dca0</td>\n",
              "      <td>0</td>\n",
              "    </tr>\n",
              "    <tr>\n",
              "      <th>1000007540</th>\n",
              "      <td>ToshiCapital Rekordz Needs Help to Complete Album</td>\n",
              "      <td>Music</td>\n",
              "      <td>10</td>\n",
              "      <td>USD</td>\n",
              "      <td>2012-04-16</td>\n",
              "      <td>5000.00</td>\n",
              "      <td>2012-03-17 03:24:11</td>\n",
              "      <td>1.00</td>\n",
              "      <td>failed</td>\n",
              "      <td>1</td>\n",
              "      <td>US</td>\n",
              "      <td>1.00</td>\n",
              "      <td>1.00</td>\n",
              "      <td>5000.00</td>\n",
              "      <td>4dbdcf09c86bbf5683ec39bc57b77f81</td>\n",
              "      <td>0</td>\n",
              "    </tr>\n",
              "    <tr>\n",
              "      <th>1000011046</th>\n",
              "      <td>Community Film Project: The Art of Neighborhoo...</td>\n",
              "      <td>Film &amp; Video</td>\n",
              "      <td>6</td>\n",
              "      <td>USD</td>\n",
              "      <td>2015-08-29</td>\n",
              "      <td>19500.00</td>\n",
              "      <td>2015-07-04 08:35:03</td>\n",
              "      <td>1283.00</td>\n",
              "      <td>canceled</td>\n",
              "      <td>14</td>\n",
              "      <td>US</td>\n",
              "      <td>1283.00</td>\n",
              "      <td>1283.00</td>\n",
              "      <td>19500.00</td>\n",
              "      <td>9c01404a2ef702811c2088ce139042ad</td>\n",
              "      <td>0</td>\n",
              "    </tr>\n",
              "  </tbody>\n",
              "</table>\n",
              "</div>"
            ],
            "text/plain": [
              "                                                         name  ... name_weirdness\n",
              "ID                                                             ...               \n",
              "1000002330                    The Songs of Adelaide & Abullah  ...              0\n",
              "1000003930      Greeting From Earth: ZGAC Arts Capsule For ET  ...              0\n",
              "1000004038                                     Where is Hank?  ...              0\n",
              "1000007540  ToshiCapital Rekordz Needs Help to Complete Album  ...              0\n",
              "1000011046  Community Film Project: The Art of Neighborhoo...  ...              0\n",
              "\n",
              "[5 rows x 16 columns]"
            ]
          },
          "metadata": {
            "tags": []
          },
          "execution_count": 54
        }
      ]
    },
    {
      "cell_type": "code",
      "metadata": {
        "id": "2ALBQNATzyxM",
        "colab_type": "code",
        "colab": {
          "base_uri": "https://localhost:8080/",
          "height": 383
        },
        "outputId": "51451121-540c-4528-ec55-20a37923205d"
      },
      "source": [
        "from sklearn.preprocessing import LabelBinarizer\n",
        "other_column = 'currency'\n",
        "\n",
        "lb = LabelBinarizer()\n",
        "\n",
        "lb_results = lb.fit_transform(kickstarter_2018[other_column])\n",
        "pandas.DataFrame(lb_results, columns=((other_column + '_') + pandas.Series(lb.classes_))).head(10)"
      ],
      "execution_count": 55,
      "outputs": [
        {
          "output_type": "execute_result",
          "data": {
            "text/html": [
              "<div>\n",
              "<style scoped>\n",
              "    .dataframe tbody tr th:only-of-type {\n",
              "        vertical-align: middle;\n",
              "    }\n",
              "\n",
              "    .dataframe tbody tr th {\n",
              "        vertical-align: top;\n",
              "    }\n",
              "\n",
              "    .dataframe thead th {\n",
              "        text-align: right;\n",
              "    }\n",
              "</style>\n",
              "<table border=\"1\" class=\"dataframe\">\n",
              "  <thead>\n",
              "    <tr style=\"text-align: right;\">\n",
              "      <th></th>\n",
              "      <th>currency_AUD</th>\n",
              "      <th>currency_CAD</th>\n",
              "      <th>currency_CHF</th>\n",
              "      <th>currency_DKK</th>\n",
              "      <th>currency_EUR</th>\n",
              "      <th>currency_GBP</th>\n",
              "      <th>currency_HKD</th>\n",
              "      <th>currency_JPY</th>\n",
              "      <th>currency_MXN</th>\n",
              "      <th>currency_NOK</th>\n",
              "      <th>currency_NZD</th>\n",
              "      <th>currency_SEK</th>\n",
              "      <th>currency_SGD</th>\n",
              "      <th>currency_USD</th>\n",
              "    </tr>\n",
              "  </thead>\n",
              "  <tbody>\n",
              "    <tr>\n",
              "      <th>0</th>\n",
              "      <td>0</td>\n",
              "      <td>0</td>\n",
              "      <td>0</td>\n",
              "      <td>0</td>\n",
              "      <td>0</td>\n",
              "      <td>1</td>\n",
              "      <td>0</td>\n",
              "      <td>0</td>\n",
              "      <td>0</td>\n",
              "      <td>0</td>\n",
              "      <td>0</td>\n",
              "      <td>0</td>\n",
              "      <td>0</td>\n",
              "      <td>0</td>\n",
              "    </tr>\n",
              "    <tr>\n",
              "      <th>1</th>\n",
              "      <td>0</td>\n",
              "      <td>0</td>\n",
              "      <td>0</td>\n",
              "      <td>0</td>\n",
              "      <td>0</td>\n",
              "      <td>0</td>\n",
              "      <td>0</td>\n",
              "      <td>0</td>\n",
              "      <td>0</td>\n",
              "      <td>0</td>\n",
              "      <td>0</td>\n",
              "      <td>0</td>\n",
              "      <td>0</td>\n",
              "      <td>1</td>\n",
              "    </tr>\n",
              "    <tr>\n",
              "      <th>2</th>\n",
              "      <td>0</td>\n",
              "      <td>0</td>\n",
              "      <td>0</td>\n",
              "      <td>0</td>\n",
              "      <td>0</td>\n",
              "      <td>0</td>\n",
              "      <td>0</td>\n",
              "      <td>0</td>\n",
              "      <td>0</td>\n",
              "      <td>0</td>\n",
              "      <td>0</td>\n",
              "      <td>0</td>\n",
              "      <td>0</td>\n",
              "      <td>1</td>\n",
              "    </tr>\n",
              "    <tr>\n",
              "      <th>3</th>\n",
              "      <td>0</td>\n",
              "      <td>0</td>\n",
              "      <td>0</td>\n",
              "      <td>0</td>\n",
              "      <td>0</td>\n",
              "      <td>0</td>\n",
              "      <td>0</td>\n",
              "      <td>0</td>\n",
              "      <td>0</td>\n",
              "      <td>0</td>\n",
              "      <td>0</td>\n",
              "      <td>0</td>\n",
              "      <td>0</td>\n",
              "      <td>1</td>\n",
              "    </tr>\n",
              "    <tr>\n",
              "      <th>4</th>\n",
              "      <td>0</td>\n",
              "      <td>0</td>\n",
              "      <td>0</td>\n",
              "      <td>0</td>\n",
              "      <td>0</td>\n",
              "      <td>0</td>\n",
              "      <td>0</td>\n",
              "      <td>0</td>\n",
              "      <td>0</td>\n",
              "      <td>0</td>\n",
              "      <td>0</td>\n",
              "      <td>0</td>\n",
              "      <td>0</td>\n",
              "      <td>1</td>\n",
              "    </tr>\n",
              "    <tr>\n",
              "      <th>5</th>\n",
              "      <td>0</td>\n",
              "      <td>0</td>\n",
              "      <td>0</td>\n",
              "      <td>0</td>\n",
              "      <td>0</td>\n",
              "      <td>0</td>\n",
              "      <td>0</td>\n",
              "      <td>0</td>\n",
              "      <td>0</td>\n",
              "      <td>0</td>\n",
              "      <td>0</td>\n",
              "      <td>0</td>\n",
              "      <td>0</td>\n",
              "      <td>1</td>\n",
              "    </tr>\n",
              "    <tr>\n",
              "      <th>6</th>\n",
              "      <td>0</td>\n",
              "      <td>0</td>\n",
              "      <td>0</td>\n",
              "      <td>0</td>\n",
              "      <td>0</td>\n",
              "      <td>0</td>\n",
              "      <td>0</td>\n",
              "      <td>0</td>\n",
              "      <td>0</td>\n",
              "      <td>0</td>\n",
              "      <td>0</td>\n",
              "      <td>0</td>\n",
              "      <td>0</td>\n",
              "      <td>1</td>\n",
              "    </tr>\n",
              "    <tr>\n",
              "      <th>7</th>\n",
              "      <td>0</td>\n",
              "      <td>0</td>\n",
              "      <td>0</td>\n",
              "      <td>0</td>\n",
              "      <td>0</td>\n",
              "      <td>0</td>\n",
              "      <td>0</td>\n",
              "      <td>0</td>\n",
              "      <td>0</td>\n",
              "      <td>0</td>\n",
              "      <td>0</td>\n",
              "      <td>0</td>\n",
              "      <td>0</td>\n",
              "      <td>1</td>\n",
              "    </tr>\n",
              "    <tr>\n",
              "      <th>8</th>\n",
              "      <td>0</td>\n",
              "      <td>0</td>\n",
              "      <td>0</td>\n",
              "      <td>0</td>\n",
              "      <td>0</td>\n",
              "      <td>0</td>\n",
              "      <td>0</td>\n",
              "      <td>0</td>\n",
              "      <td>0</td>\n",
              "      <td>0</td>\n",
              "      <td>0</td>\n",
              "      <td>0</td>\n",
              "      <td>0</td>\n",
              "      <td>1</td>\n",
              "    </tr>\n",
              "    <tr>\n",
              "      <th>9</th>\n",
              "      <td>0</td>\n",
              "      <td>0</td>\n",
              "      <td>0</td>\n",
              "      <td>0</td>\n",
              "      <td>0</td>\n",
              "      <td>0</td>\n",
              "      <td>0</td>\n",
              "      <td>0</td>\n",
              "      <td>0</td>\n",
              "      <td>0</td>\n",
              "      <td>0</td>\n",
              "      <td>0</td>\n",
              "      <td>0</td>\n",
              "      <td>1</td>\n",
              "    </tr>\n",
              "  </tbody>\n",
              "</table>\n",
              "</div>"
            ],
            "text/plain": [
              "   currency_AUD  currency_CAD  ...  currency_SGD  currency_USD\n",
              "0             0             0  ...             0             0\n",
              "1             0             0  ...             0             1\n",
              "2             0             0  ...             0             1\n",
              "3             0             0  ...             0             1\n",
              "4             0             0  ...             0             1\n",
              "5             0             0  ...             0             1\n",
              "6             0             0  ...             0             1\n",
              "7             0             0  ...             0             1\n",
              "8             0             0  ...             0             1\n",
              "9             0             0  ...             0             1\n",
              "\n",
              "[10 rows x 14 columns]"
            ]
          },
          "metadata": {
            "tags": []
          },
          "execution_count": 55
        }
      ]
    },
    {
      "cell_type": "markdown",
      "metadata": {
        "id": "alxI8FGptO0F",
        "colab_type": "text"
      },
      "source": [
        "## 2.4 No cambiar los nombres de las variables de la fuente de origen\n"
      ]
    },
    {
      "cell_type": "markdown",
      "metadata": {
        "id": "-xw9V4bgtVcp",
        "colab_type": "text"
      },
      "source": [
        "## 2.5 Verificar la consistencia de las variables\n",
        "Aplicar reglas de integridad"
      ]
    },
    {
      "cell_type": "markdown",
      "metadata": {
        "id": "8Jm5e9E10P0T",
        "colab_type": "text"
      },
      "source": [
        "#### Ejercicio 5\n",
        "\n",
        "1. ¿Hay proyecto éxitosos que no consiguieron el objetivo? Si hay, ¿Qué porcentaje sí y cuál no?\n"
      ]
    },
    {
      "cell_type": "code",
      "metadata": {
        "id": "AP_q25K_tlG3",
        "colab_type": "code",
        "colab": {
          "base_uri": "https://localhost:8080/",
          "height": 52
        },
        "outputId": "b0bb9230-9cb6-4109-e758-8f387f9de9ba"
      },
      "source": [
        "df_exitoso_NO = kickstarter_2018[(kickstarter_2018.state == 'successful') & (kickstarter_2018.pledged < kickstarter_2018.goal)]\n",
        "df_exitoso_SI = kickstarter_2018[(kickstarter_2018.state == 'successful') & (kickstarter_2018.pledged >= kickstarter_2018.goal)]\n",
        "print(\"Proyectos exitosos que NO consiguieron el objetivo \", len(df_exitoso_NO), '('+str(round((len(df_exitoso_NO)/len(kickstarter_2018)*100), 3))+'%)')\n",
        "print(\"Proyectos exitosos que SI consiguieron el objetivo \", len(df_exitoso_SI), '('+str(round((len(df_exitoso_SI)/len(kickstarter_2018)*100), 3))+'%)')"
      ],
      "execution_count": 56,
      "outputs": [
        {
          "output_type": "stream",
          "text": [
            "Proyectos exitosos que NO consiguieron el objetivo  5 (0.001%)\n",
            "Proyectos exitosos que SI consiguieron el objetivo  133951 (35.375%)\n"
          ],
          "name": "stdout"
        }
      ]
    },
    {
      "cell_type": "code",
      "metadata": {
        "id": "WO9T8u6r0Qh6",
        "colab_type": "code",
        "colab": {
          "base_uri": "https://localhost:8080/",
          "height": 483
        },
        "outputId": "413c1c87-7908-461c-dd2e-721b511194d9"
      },
      "source": [
        "kickstarter_2018[(kickstarter_2018.state == 'successful') & (kickstarter_2018.pledged < kickstarter_2018.goal)]"
      ],
      "execution_count": 57,
      "outputs": [
        {
          "output_type": "execute_result",
          "data": {
            "text/html": [
              "<div>\n",
              "<style scoped>\n",
              "    .dataframe tbody tr th:only-of-type {\n",
              "        vertical-align: middle;\n",
              "    }\n",
              "\n",
              "    .dataframe tbody tr th {\n",
              "        vertical-align: top;\n",
              "    }\n",
              "\n",
              "    .dataframe thead th {\n",
              "        text-align: right;\n",
              "    }\n",
              "</style>\n",
              "<table border=\"1\" class=\"dataframe\">\n",
              "  <thead>\n",
              "    <tr style=\"text-align: right;\">\n",
              "      <th></th>\n",
              "      <th>name</th>\n",
              "      <th>category</th>\n",
              "      <th>main_category</th>\n",
              "      <th>currency</th>\n",
              "      <th>deadline</th>\n",
              "      <th>goal</th>\n",
              "      <th>launched</th>\n",
              "      <th>pledged</th>\n",
              "      <th>state</th>\n",
              "      <th>backers</th>\n",
              "      <th>country</th>\n",
              "      <th>usd_pledged</th>\n",
              "      <th>usd_pledged_real</th>\n",
              "      <th>usd_goal_real</th>\n",
              "      <th>name_hash</th>\n",
              "      <th>name_weirdness</th>\n",
              "    </tr>\n",
              "    <tr>\n",
              "      <th>ID</th>\n",
              "      <th></th>\n",
              "      <th></th>\n",
              "      <th></th>\n",
              "      <th></th>\n",
              "      <th></th>\n",
              "      <th></th>\n",
              "      <th></th>\n",
              "      <th></th>\n",
              "      <th></th>\n",
              "      <th></th>\n",
              "      <th></th>\n",
              "      <th></th>\n",
              "      <th></th>\n",
              "      <th></th>\n",
              "      <th></th>\n",
              "      <th></th>\n",
              "    </tr>\n",
              "  </thead>\n",
              "  <tbody>\n",
              "    <tr>\n",
              "      <th>1368992939</th>\n",
              "      <td>Santa's Sled</td>\n",
              "      <td>Art</td>\n",
              "      <td>0</td>\n",
              "      <td>USD</td>\n",
              "      <td>2012-08-27</td>\n",
              "      <td>3600.00</td>\n",
              "      <td>2012-07-26 03:31:28</td>\n",
              "      <td>3599.69</td>\n",
              "      <td>successful</td>\n",
              "      <td>64</td>\n",
              "      <td>US</td>\n",
              "      <td>3599.69</td>\n",
              "      <td>3599.69</td>\n",
              "      <td>3600.00</td>\n",
              "      <td>92f6e4970773ace6a1a5834f969aa063</td>\n",
              "      <td>0</td>\n",
              "    </tr>\n",
              "    <tr>\n",
              "      <th>1769772834</th>\n",
              "      <td>Borders of the Imagination - An Epic Sci-Fi/Fa...</td>\n",
              "      <td>Shorts</td>\n",
              "      <td>6</td>\n",
              "      <td>USD</td>\n",
              "      <td>2015-12-27</td>\n",
              "      <td>36000.00</td>\n",
              "      <td>2015-11-12 19:06:18</td>\n",
              "      <td>30716.00</td>\n",
              "      <td>successful</td>\n",
              "      <td>275</td>\n",
              "      <td>US</td>\n",
              "      <td>30716.00</td>\n",
              "      <td>30716.00</td>\n",
              "      <td>36000.00</td>\n",
              "      <td>a9df06a2771d5b16d9bc1565e01d6f74</td>\n",
              "      <td>0</td>\n",
              "    </tr>\n",
              "    <tr>\n",
              "      <th>251325270</th>\n",
              "      <td>Documentary film about Les Blank.</td>\n",
              "      <td>Documentary</td>\n",
              "      <td>6</td>\n",
              "      <td>USD</td>\n",
              "      <td>2010-07-18</td>\n",
              "      <td>8000.00</td>\n",
              "      <td>2010-06-02 22:15:38</td>\n",
              "      <td>7999.65</td>\n",
              "      <td>successful</td>\n",
              "      <td>73</td>\n",
              "      <td>US</td>\n",
              "      <td>7999.65</td>\n",
              "      <td>7999.65</td>\n",
              "      <td>8000.00</td>\n",
              "      <td>8d98ff9795b5f284d716f851e41e344a</td>\n",
              "      <td>0</td>\n",
              "    </tr>\n",
              "    <tr>\n",
              "      <th>4732285</th>\n",
              "      <td>Insiders/Out: Exploring Outsider Art in America</td>\n",
              "      <td>Art</td>\n",
              "      <td>0</td>\n",
              "      <td>USD</td>\n",
              "      <td>2010-07-08</td>\n",
              "      <td>2000.00</td>\n",
              "      <td>2010-05-27 00:26:33</td>\n",
              "      <td>1999.66</td>\n",
              "      <td>successful</td>\n",
              "      <td>30</td>\n",
              "      <td>US</td>\n",
              "      <td>1999.66</td>\n",
              "      <td>1999.66</td>\n",
              "      <td>2000.00</td>\n",
              "      <td>c746e76b03e0b8a1fa80816821f7ebb7</td>\n",
              "      <td>0</td>\n",
              "    </tr>\n",
              "    <tr>\n",
              "      <th>780863434</th>\n",
              "      <td>TUW Ruhla Watches - Comeback of a Legend</td>\n",
              "      <td>Product Design</td>\n",
              "      <td>4</td>\n",
              "      <td>EUR</td>\n",
              "      <td>2016-03-19</td>\n",
              "      <td>25000.00</td>\n",
              "      <td>2016-02-08 19:14:02</td>\n",
              "      <td>24892.50</td>\n",
              "      <td>successful</td>\n",
              "      <td>90</td>\n",
              "      <td>DE</td>\n",
              "      <td>27778.24</td>\n",
              "      <td>27765.07</td>\n",
              "      <td>27884.98</td>\n",
              "      <td>61e9a198771a6c2b2ae6fb50d96eccbe</td>\n",
              "      <td>0</td>\n",
              "    </tr>\n",
              "  </tbody>\n",
              "</table>\n",
              "</div>"
            ],
            "text/plain": [
              "                                                         name  ... name_weirdness\n",
              "ID                                                             ...               \n",
              "1368992939                                       Santa's Sled  ...              0\n",
              "1769772834  Borders of the Imagination - An Epic Sci-Fi/Fa...  ...              0\n",
              "251325270                   Documentary film about Les Blank.  ...              0\n",
              "4732285       Insiders/Out: Exploring Outsider Art in America  ...              0\n",
              "780863434            TUW Ruhla Watches - Comeback of a Legend  ...              0\n",
              "\n",
              "[5 rows x 16 columns]"
            ]
          },
          "metadata": {
            "tags": []
          },
          "execution_count": 57
        }
      ]
    },
    {
      "cell_type": "markdown",
      "metadata": {
        "id": "B9zf_Iix0fTq",
        "colab_type": "text"
      },
      "source": [
        "Sí, hay proyectos exitosos que no consigueron el objetivo. Sin embargo, este grupo representa un 0.0013% respecto del total. Es decir, prácticamente un 100% de los proyectos catalogados como \"succesfull\" lograron el objetivo planteado inicialmente."
      ]
    },
    {
      "cell_type": "markdown",
      "metadata": {
        "id": "Jpo_v8IfuB0c",
        "colab_type": "text"
      },
      "source": [
        "2. Calcular una tabla con la cantidad de proyectos por categoría principal y estado."
      ]
    },
    {
      "cell_type": "code",
      "metadata": {
        "id": "vzfma0Wc0c8B",
        "colab_type": "code",
        "colab": {
          "base_uri": "https://localhost:8080/",
          "height": 289
        },
        "outputId": "d1b9cb39-e98b-4120-935a-740b62fdda64"
      },
      "source": [
        "df_cat_state_counts = kickstarter_2018.groupby([\"main_category\", \"state\"], as_index= False).count()[[\"main_category\", \"state\", \"name\"]]\n",
        "df_cat_state_counts.pivot_table(values='name',index='state',columns='main_category')"
      ],
      "execution_count": 58,
      "outputs": [
        {
          "output_type": "execute_result",
          "data": {
            "text/html": [
              "<div>\n",
              "<style scoped>\n",
              "    .dataframe tbody tr th:only-of-type {\n",
              "        vertical-align: middle;\n",
              "    }\n",
              "\n",
              "    .dataframe tbody tr th {\n",
              "        vertical-align: top;\n",
              "    }\n",
              "\n",
              "    .dataframe thead th {\n",
              "        text-align: right;\n",
              "    }\n",
              "</style>\n",
              "<table border=\"1\" class=\"dataframe\">\n",
              "  <thead>\n",
              "    <tr style=\"text-align: right;\">\n",
              "      <th>main_category</th>\n",
              "      <th>0</th>\n",
              "      <th>1</th>\n",
              "      <th>2</th>\n",
              "      <th>3</th>\n",
              "      <th>4</th>\n",
              "      <th>5</th>\n",
              "      <th>6</th>\n",
              "      <th>7</th>\n",
              "      <th>8</th>\n",
              "      <th>9</th>\n",
              "      <th>10</th>\n",
              "      <th>11</th>\n",
              "      <th>12</th>\n",
              "      <th>13</th>\n",
              "      <th>14</th>\n",
              "    </tr>\n",
              "    <tr>\n",
              "      <th>state</th>\n",
              "      <th></th>\n",
              "      <th></th>\n",
              "      <th></th>\n",
              "      <th></th>\n",
              "      <th></th>\n",
              "      <th></th>\n",
              "      <th></th>\n",
              "      <th></th>\n",
              "      <th></th>\n",
              "      <th></th>\n",
              "      <th></th>\n",
              "      <th></th>\n",
              "      <th></th>\n",
              "      <th></th>\n",
              "      <th></th>\n",
              "    </tr>\n",
              "  </thead>\n",
              "  <tbody>\n",
              "    <tr>\n",
              "      <th>canceled</th>\n",
              "      <td>2222.00</td>\n",
              "      <td>842.00</td>\n",
              "      <td>843.00</td>\n",
              "      <td>163.00</td>\n",
              "      <td>4152.00</td>\n",
              "      <td>2650.00</td>\n",
              "      <td>5755.00</td>\n",
              "      <td>2211.00</td>\n",
              "      <td>6202.00</td>\n",
              "      <td>523.00</td>\n",
              "      <td>3305.00</td>\n",
              "      <td>986.00</td>\n",
              "      <td>3602.00</td>\n",
              "      <td>4715.00</td>\n",
              "      <td>608.00</td>\n",
              "    </tr>\n",
              "    <tr>\n",
              "      <th>failed</th>\n",
              "      <td>14130.00</td>\n",
              "      <td>4036.00</td>\n",
              "      <td>5703.00</td>\n",
              "      <td>1235.00</td>\n",
              "      <td>14814.00</td>\n",
              "      <td>14182.00</td>\n",
              "      <td>32903.00</td>\n",
              "      <td>15969.00</td>\n",
              "      <td>16002.00</td>\n",
              "      <td>3137.00</td>\n",
              "      <td>21752.00</td>\n",
              "      <td>6384.00</td>\n",
              "      <td>23145.00</td>\n",
              "      <td>20616.00</td>\n",
              "      <td>3708.00</td>\n",
              "    </tr>\n",
              "    <tr>\n",
              "      <th>live</th>\n",
              "      <td>194.00</td>\n",
              "      <td>76.00</td>\n",
              "      <td>76.00</td>\n",
              "      <td>18.00</td>\n",
              "      <td>305.00</td>\n",
              "      <td>250.00</td>\n",
              "      <td>332.00</td>\n",
              "      <td>184.00</td>\n",
              "      <td>287.00</td>\n",
              "      <td>31.00</td>\n",
              "      <td>281.00</td>\n",
              "      <td>48.00</td>\n",
              "      <td>299.00</td>\n",
              "      <td>377.00</td>\n",
              "      <td>41.00</td>\n",
              "    </tr>\n",
              "    <tr>\n",
              "      <th>successful</th>\n",
              "      <td>11510.00</td>\n",
              "      <td>5842.00</td>\n",
              "      <td>2115.00</td>\n",
              "      <td>2338.00</td>\n",
              "      <td>10550.00</td>\n",
              "      <td>5593.00</td>\n",
              "      <td>23623.00</td>\n",
              "      <td>6085.00</td>\n",
              "      <td>12518.00</td>\n",
              "      <td>1012.00</td>\n",
              "      <td>24197.00</td>\n",
              "      <td>3305.00</td>\n",
              "      <td>12300.00</td>\n",
              "      <td>6434.00</td>\n",
              "      <td>6534.00</td>\n",
              "    </tr>\n",
              "    <tr>\n",
              "      <th>suspended</th>\n",
              "      <td>96.00</td>\n",
              "      <td>23.00</td>\n",
              "      <td>72.00</td>\n",
              "      <td>13.00</td>\n",
              "      <td>246.00</td>\n",
              "      <td>138.00</td>\n",
              "      <td>117.00</td>\n",
              "      <td>153.00</td>\n",
              "      <td>220.00</td>\n",
              "      <td>52.00</td>\n",
              "      <td>149.00</td>\n",
              "      <td>55.00</td>\n",
              "      <td>66.00</td>\n",
              "      <td>424.00</td>\n",
              "      <td>21.00</td>\n",
              "    </tr>\n",
              "    <tr>\n",
              "      <th>undefined</th>\n",
              "      <td>nan</td>\n",
              "      <td>nan</td>\n",
              "      <td>nan</td>\n",
              "      <td>1.00</td>\n",
              "      <td>2.00</td>\n",
              "      <td>3.00</td>\n",
              "      <td>854.00</td>\n",
              "      <td>nan</td>\n",
              "      <td>1.00</td>\n",
              "      <td>nan</td>\n",
              "      <td>2234.00</td>\n",
              "      <td>1.00</td>\n",
              "      <td>462.00</td>\n",
              "      <td>3.00</td>\n",
              "      <td>1.00</td>\n",
              "    </tr>\n",
              "  </tbody>\n",
              "</table>\n",
              "</div>"
            ],
            "text/plain": [
              "main_category       0       1       2   ...       12       13      14\n",
              "state                                   ...                          \n",
              "canceled       2222.00  842.00  843.00  ...  3602.00  4715.00  608.00\n",
              "failed        14130.00 4036.00 5703.00  ... 23145.00 20616.00 3708.00\n",
              "live            194.00   76.00   76.00  ...   299.00   377.00   41.00\n",
              "successful    11510.00 5842.00 2115.00  ... 12300.00  6434.00 6534.00\n",
              "suspended        96.00   23.00   72.00  ...    66.00   424.00   21.00\n",
              "undefined          nan     nan     nan  ...   462.00     3.00    1.00\n",
              "\n",
              "[6 rows x 15 columns]"
            ]
          },
          "metadata": {
            "tags": []
          },
          "execution_count": 58
        }
      ]
    },
    {
      "cell_type": "markdown",
      "metadata": {
        "id": "PZADqkObudgZ",
        "colab_type": "text"
      },
      "source": [
        "## 2.6. Identificar y documentar valores atípicos/outliers\n",
        "\n",
        "Queremos analizar las características de los proyectos que obtienen dinero pero sin considerar los casos atípicos."
      ]
    },
    {
      "cell_type": "markdown",
      "metadata": {
        "id": "x3cwlYRU1k8V",
        "colab_type": "text"
      },
      "source": [
        "#### Ejercicio 6\n",
        "\n",
        "Calcular los valores atípicos de 'usd_goal_real' y graficar los boxplots, con y sin estos valores por categoría"
      ]
    },
    {
      "cell_type": "code",
      "metadata": {
        "id": "z9waN-ig1o6y",
        "colab_type": "code",
        "colab": {
          "base_uri": "https://localhost:8080/",
          "height": 388
        },
        "outputId": "249d71c1-8956-43ea-dc11-3382c817dc0e"
      },
      "source": [
        "# Boxplot de \"usd_goal_real\" con outliers incluidos, por categoría de proyecto.\n",
        "\n",
        "kickstarter_2018.boxplot(column='usd_goal_real',by='main_category', figsize=(15,5))\n",
        "plt.xticks(rotation=45)"
      ],
      "execution_count": 59,
      "outputs": [
        {
          "output_type": "execute_result",
          "data": {
            "text/plain": [
              "(array([ 1,  2,  3,  4,  5,  6,  7,  8,  9, 10, 11, 12, 13, 14, 15]),\n",
              " <a list of 15 Text major ticklabel objects>)"
            ]
          },
          "metadata": {
            "tags": []
          },
          "execution_count": 59
        },
        {
          "output_type": "display_data",
          "data": {
            "image/png": "[encoded data removed]",
            "text/plain": [
              "<Figure size 1080x360 with 1 Axes>"
            ]
          },
          "metadata": {
            "tags": [],
            "needs_background": "light"
          }
        }
      ]
    },
    {
      "cell_type": "code",
      "metadata": {
        "id": "jpw-Q3NS2rDi",
        "colab_type": "code",
        "colab": {
          "base_uri": "https://localhost:8080/",
          "height": 383
        },
        "outputId": "7e39aeaf-6a7b-4110-e131-b8a6629a134e"
      },
      "source": [
        "# Boxplot de \"usd_goal_real\" con outliers excluidos, por categoría de proyecto.\n",
        "\n",
        "kickstarter_2018.boxplot(column='usd_goal_real',by='main_category', figsize=(15,5), showfliers = False)\n",
        "plt.xticks(rotation=45)"
      ],
      "execution_count": 60,
      "outputs": [
        {
          "output_type": "execute_result",
          "data": {
            "text/plain": [
              "(array([ 1,  2,  3,  4,  5,  6,  7,  8,  9, 10, 11, 12, 13, 14, 15]),\n",
              " <a list of 15 Text major ticklabel objects>)"
            ]
          },
          "metadata": {
            "tags": []
          },
          "execution_count": 60
        },
        {
          "output_type": "display_data",
          "data": {
            "image/png": "[encoded data removed]",
            "text/plain": [
              "<Figure size 1080x360 with 1 Axes>"
            ]
          },
          "metadata": {
            "tags": [],
            "needs_background": "light"
          }
        }
      ]
    },
    {
      "cell_type": "markdown",
      "metadata": {
        "id": "0jcPgosu6TnT",
        "colab_type": "text"
      },
      "source": [
        "# Ingestión de Datos - SQL"
      ]
    },
    {
      "cell_type": "markdown",
      "metadata": {
        "id": "_p9_QQVIXbg9",
        "colab_type": "text"
      },
      "source": [
        "## Ejercicio \n",
        "\n",
        "Descargar DB de ejemplo. Realizar la siguiente consulta:\n",
        "*  Canciones de Iron Maiden\n",
        "*  Discos con más de 25 canciones\n",
        "*  Las 10 canciones más populares"
      ]
    },
    {
      "cell_type": "markdown",
      "metadata": {
        "id": "6xlc65Gm6l7H",
        "colab_type": "text"
      },
      "source": [
        "A continuación, se muestra el código para la consulta SQL del ejercicio planteado.\n",
        "\n",
        "* Canciones de Iron Maiden\n",
        "\n",
        "```\n",
        "SELECT tracks.name\n",
        "FROM tracks\n",
        "INNER JOIN albums\n",
        "    ON albums.albumid = tracks.albumid\n",
        "INNER JOIN artists\n",
        "    ON artists.artistid = albums.artistid\n",
        "WHERE artists.name = 'Iron Maiden'\n",
        "```\n",
        "\n",
        "* Discos con más de 25 canciones\n",
        "\n",
        "```\n",
        "SELECT albums.title,\n",
        "         count(tracks.trackid) AS canciones\n",
        "FROM albums\n",
        "INNER JOIN tracks\n",
        "    ON tracks.albumid = albums.albumid\n",
        "GROUP BY  albums.albumid\n",
        "HAVING canciones > 25\n",
        "ORDER BY  canciones desc\n",
        "```\n",
        "* Las 10 canciones más populares\n",
        "\n",
        "```\n",
        "SELECT tracks.name,\n",
        "         count(playlist_track.trackid) AS playlists\n",
        "FROM tracks\n",
        "INNER JOIN playlist_track\n",
        "    ON playlist_track.trackid = tracks.trackid\n",
        "GROUP BY  tracks.name\n",
        "ORDER BY  playlists DESC limit 10\n",
        "```\n",
        "\n"
      ]
    },
    {
      "cell_type": "markdown",
      "metadata": {
        "id": "rMQNE_048jy_",
        "colab_type": "text"
      },
      "source": [
        "Reescribir la siguiente consulta con JOIN:\n",
        "\n",
        "```\n",
        "SELECT trackid, name\n",
        "FROM tracks\n",
        "WHERE albumid = \n",
        "    (SELECT albumid\n",
        "    FROM albums\n",
        "    WHERE title = \"Let There Be Rock\");\n",
        "```"
      ]
    },
    {
      "cell_type": "markdown",
      "metadata": {
        "id": "RwqNUNQy9m37",
        "colab_type": "text"
      },
      "source": [
        "Respuesta:\n",
        "\n",
        "```\n",
        "SELECT trackid, name\n",
        "FROM tracks\n",
        "INNER JOIN albums\n",
        "\tON albums.albumid = tracks.albumid\n",
        "WHERE title = \"Let There Be Rock\"\n",
        "```"
      ]
    },
    {
      "cell_type": "markdown",
      "metadata": {
        "id": "y00-JODC9wjm",
        "colab_type": "text"
      },
      "source": [
        "# Ingestión de Datos - RSS"
      ]
    },
    {
      "cell_type": "markdown",
      "metadata": {
        "id": "rSNRx4-PXjgN",
        "colab_type": "text"
      },
      "source": [
        "## Ejercicio\n",
        "\n",
        "Descargar títulos de artículos de Tecnología de La Voz del Interior"
      ]
    },
    {
      "cell_type": "code",
      "metadata": {
        "id": "bg7Tv3A695HH",
        "colab_type": "code",
        "colab": {
          "base_uri": "https://localhost:8080/",
          "height": 211
        },
        "outputId": "cb089fbd-bd6b-4233-a2a8-2af74d31a418"
      },
      "source": [
        "pip install feedparser"
      ],
      "execution_count": 61,
      "outputs": [
        {
          "output_type": "stream",
          "text": [
            "Collecting feedparser\n",
            "\u001b[?25l  Downloading https://files.pythonhosted.org/packages/91/d8/7d37fec71ff7c9dbcdd80d2b48bcdd86d6af502156fc93846fb0102cb2c4/feedparser-5.2.1.tar.bz2 (192kB)\n",
            "\r\u001b[K     |█▊                              | 10kB 16.9MB/s eta 0:00:01\r\u001b[K     |███▍                            | 20kB 1.7MB/s eta 0:00:01\r\u001b[K     |█████▏                          | 30kB 2.2MB/s eta 0:00:01\r\u001b[K     |██████▉                         | 40kB 2.4MB/s eta 0:00:01\r\u001b[K     |████████▌                       | 51kB 2.0MB/s eta 0:00:01\r\u001b[K     |██████████▎                     | 61kB 2.2MB/s eta 0:00:01\r\u001b[K     |████████████                    | 71kB 2.4MB/s eta 0:00:01\r\u001b[K     |█████████████▋                  | 81kB 2.7MB/s eta 0:00:01\r\u001b[K     |███████████████▍                | 92kB 2.8MB/s eta 0:00:01\r\u001b[K     |█████████████████               | 102kB 2.8MB/s eta 0:00:01\r\u001b[K     |██████████████████▊             | 112kB 2.8MB/s eta 0:00:01\r\u001b[K     |████████████████████▌           | 122kB 2.8MB/s eta 0:00:01\r\u001b[K     |██████████████████████▏         | 133kB 2.8MB/s eta 0:00:01\r\u001b[K     |███████████████████████▉        | 143kB 2.8MB/s eta 0:00:01\r\u001b[K     |█████████████████████████▋      | 153kB 2.8MB/s eta 0:00:01\r\u001b[K     |███████████████████████████▎    | 163kB 2.8MB/s eta 0:00:01\r\u001b[K     |█████████████████████████████   | 174kB 2.8MB/s eta 0:00:01\r\u001b[K     |██████████████████████████████▊ | 184kB 2.8MB/s eta 0:00:01\r\u001b[K     |████████████████████████████████| 194kB 2.8MB/s \n",
            "\u001b[?25hBuilding wheels for collected packages: feedparser\n",
            "  Building wheel for feedparser (setup.py) ... \u001b[?25l\u001b[?25hdone\n",
            "  Created wheel for feedparser: filename=feedparser-5.2.1-cp36-none-any.whl size=44940 sha256=93b5893146dd465432f72ea9b976c93d9e75b0614beb026b9175628706b49489\n",
            "  Stored in directory: /root/.cache/pip/wheels/8c/69/b7/f52763c41c5471df57703a0ef718a32a5e81ee35dcf6d4f97f\n",
            "Successfully built feedparser\n",
            "Installing collected packages: feedparser\n",
            "Successfully installed feedparser-5.2.1\n"
          ],
          "name": "stdout"
        }
      ]
    },
    {
      "cell_type": "code",
      "metadata": {
        "id": "DziVqG6L9w7c",
        "colab_type": "code",
        "colab": {
          "base_uri": "https://localhost:8080/",
          "height": 558
        },
        "outputId": "601208b5-358f-4392-cb9d-3fbb50e826ef"
      },
      "source": [
        "import feedparser\n",
        "\n",
        "# Se obtienen los datos, y se imprimen los nombres de los artículos del mismo\n",
        "\n",
        "lavoz_datos = feedparser.parse(\"https://www.lavoz.com.ar/rss/tecnologia.xml\")\n",
        "for articulo in lavoz_datos['entries']:\n",
        "    print(\"-\", articulo['title'])"
      ],
      "execution_count": 62,
      "outputs": [
        {
          "output_type": "stream",
          "text": [
            "- Ransomware: un ataque de hackers afectó el sistema interno de Telecom\n",
            "- El nuevo altavoz inalámbrico de Sony integra un mando para escuchar la televisión en cualquier parte de la casa\n",
            "- Los hackers descargaron el historial de datos de 8 de las cuentas afectadas por el ataque a Twitter\n",
            "- Tamales, montoncito de dedos y trans: estos son los nuevos emojis que llegan a iPhone en septiembre\n",
            "- Día Mundial del Emoji: cuáles son sus significados según el contexto cultural\n",
            "- Twitter confirmó que fueron 130 las cuentas hackeadas\n",
            "- Zoom soluciona un fallo de seguridad en la personalización de url que permitía lanzar campañas de phishing\n",
            "- Ultra rápida: lanzan un sistema que carga el 33% de la batería del celu en tres minutos\n",
            "- La explicación de Twitter al hackeo masivo de cuentas\n",
            "- Hackearon las cuentas de Twitter de Obama, Biden y Gates\n",
            "- Facebook transmitirá videos musicales con licencia oficial a partir de agosto\n",
            "- Google Maps permite calibrar la ubicación del usuario con Live View\n",
            "- El nuevo diseño de Gmail integrará Chat, Rooms y Meet\n",
            "- Con el 5G aún en pañales, Samsung tiene fecha estimada para la llegada del 6G\n",
            "- Descubren una app de chat para Android que espía a los usuarios y roba sus datos\n",
            "- Venden un Súper Mario Bros de 1985 precintado por U$S 114.000 y se convierte en el juego más caro del mundo\n",
            "- Apple aconseja no usar protectores para tapar la webcam de los MacBook: qué alternativas propone\n",
            "- Un ratito más: la pulsera de Fitbit despertará a los usuarios \"en el mejor momento\"\n",
            "- ¿TikTok es divertido? El mundo lo ve como un asunto muy serio y con razón\n",
            "- Instagram prohibirá publicidades de \"terapias de conversión\" para personas LGTB\n",
            "- Microsoft toma el control de los dominios que usaban la Covid como anzuelo para estafas\n",
            "- Microsoft Teams: ahora los que estén en una videollamada podrán verse \"uno al lado del otro\"\n",
            "- Instagram permite fijar hasta tres comentarios en una publicación\n",
            "- Google Maps empieza a mostrar los semáforos en Android\n",
            "- TikTok se retirará en los próximos días de Hong Kong y EE.UU. estudia prohibir la red social china\n",
            "- Sony ensambla su consola PlayStation 4 en 30 segundos a través de robots\n",
            "- Sony lanza un 'wearable' para llevar aire acondicionado en la ropa\n",
            "- Samsung creó una funda con \"recubrimiento antimicrobiano\" para smartphones y tablets\n",
            "- Ubisoft lanza el juego marcado para ser un nuevo \"battle royal\", sólo que urbano y futurista\n",
            "- El primer smartphone enrollable ya se está fabricando: LG se anota primero\n"
          ],
          "name": "stdout"
        }
      ]
    }
  ]
}